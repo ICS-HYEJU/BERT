{
  "cells": [
    {
      "cell_type": "markdown",
      "metadata": {
        "id": "view-in-github",
        "colab_type": "text"
      },
      "source": [
        "<a href=\"https://colab.research.google.com/github/ICS-HYEJU/BERT/blob/main/BERT_Pre_Training.ipynb\" target=\"_parent\"><img src=\"https://colab.research.google.com/assets/colab-badge.svg\" alt=\"Open In Colab\"/></a>"
      ]
    },
    {
      "cell_type": "markdown",
      "metadata": {
        "id": "3fx-KrDJ-J6Z"
      },
      "source": [
        "KoWiki 데이터 셋 처리 하는 방법 ([링크](https://blog.naver.com/goreng2/222484574485))"
      ]
    },
    {
      "cell_type": "markdown",
      "metadata": {
        "id": "sRP9oUJtzTQ9"
      },
      "source": [
        "### Libraries"
      ]
    },
    {
      "cell_type": "code",
      "execution_count": null,
      "metadata": {
        "colab": {
          "base_uri": "https://localhost:8080/"
        },
        "id": "eXuKYqwQrhlb",
        "outputId": "c65746b7-53cf-44f6-d3de-cc49d215e95a"
      },
      "outputs": [
        {
          "output_type": "stream",
          "name": "stdout",
          "text": [
            "Collecting tokenization\n",
            "  Downloading tokenization-1.0.7-py3-none-any.whl (10 kB)\n",
            "Requirement already satisfied: regex in /usr/local/lib/python3.10/dist-packages (from tokenization) (2023.12.25)\n",
            "Installing collected packages: tokenization\n",
            "Successfully installed tokenization-1.0.7\n"
          ]
        }
      ],
      "source": [
        "!pip install tokenization"
      ]
    },
    {
      "cell_type": "code",
      "execution_count": null,
      "metadata": {
        "id": "_l-1AUDRAeuL"
      },
      "outputs": [],
      "source": [
        "import os\n",
        "from tqdm import tqdm\n",
        "import unicodedata\n",
        "import glob\n",
        "import copy\n",
        "\n",
        "import numpy as np\n",
        "import collections\n",
        "\n",
        "import tokenization as tokenization\n",
        "\n",
        "import random\n",
        "import h5py\n",
        "\n",
        "import argparse\n",
        "import json\n",
        "from tokenizers import BertWordPieceTokenizer\n",
        "import glob\n",
        "\n",
        "from torch.utils.data import Dataset\n",
        "from torch.utils.data import DataLoader\n",
        "\n",
        "import torch\n",
        "import torch.nn as nn\n",
        "\n",
        "import math\n",
        "import torch.nn.functional as F\n",
        "\n",
        "from typing import Final, Any, Callable\n",
        "from torch.nn import init\n",
        "\n",
        "from torch.optim.optimizer import Optimizer\n",
        "from torch.optim.lr_scheduler import _LRScheduler\n",
        "\n",
        "from transformers import AdamW"
      ]
    },
    {
      "cell_type": "markdown",
      "metadata": {
        "id": "Cwg-WiWtuZ8l"
      },
      "source": [
        "BertAdam vs. Adam [링크](https://velog.io/@jaylnne/NLP-BertAdam-optimizer-%EC%9D%98-%EA%B0%9C%EB%85%90-Adam-%EA%B3%BC%EC%9D%98-%EC%B0%A8%EC%9D%B4%EC%A0%90-%EC%A0%95%EB%A6%AC)"
      ]
    },
    {
      "cell_type": "markdown",
      "metadata": {
        "id": "U7DONOje-QV8"
      },
      "source": [
        "### 1. 위키백과 데이터 추출"
      ]
    },
    {
      "cell_type": "markdown",
      "metadata": {
        "id": "h1PO_wKf-gWd"
      },
      "source": [
        "* KoWiki Dump: [링크](https://)"
      ]
    },
    {
      "cell_type": "markdown",
      "metadata": {
        "id": "_nv9IbTLFJ08"
      },
      "source": [
        "#### 1-1. Dump 데이터 받고 압축 풀기"
      ]
    },
    {
      "cell_type": "markdown",
      "metadata": {
        "id": "JUwJLExDnw3V"
      },
      "source": [
        "* 아래 내용은 서버 관점에서 생각하면 터미널로 실행해서 데이터들을 받아야 하는 것."
      ]
    },
    {
      "cell_type": "code",
      "execution_count": null,
      "metadata": {
        "colab": {
          "base_uri": "https://localhost:8080/"
        },
        "id": "bBGPWG87l9dk",
        "outputId": "3687e649-8e68-4498-bd25-ba535f42994d"
      },
      "outputs": [
        {
          "output_type": "stream",
          "name": "stdout",
          "text": [
            "Drive already mounted at /content/drive/; to attempt to forcibly remount, call drive.mount(\"/content/drive/\", force_remount=True).\n"
          ]
        }
      ],
      "source": [
        "from google.colab import drive\n",
        "drive.mount('/content/drive/')"
      ]
    },
    {
      "cell_type": "code",
      "execution_count": null,
      "metadata": {
        "colab": {
          "base_uri": "https://localhost:8080/"
        },
        "id": "pF4AhuMl8yt2",
        "outputId": "7b79a82f-7295-40cd-812f-ddda94d63d56"
      },
      "outputs": [
        {
          "output_type": "stream",
          "name": "stdout",
          "text": [
            "fatal: destination path 'wikiextractor' already exists and is not an empty directory.\n"
          ]
        }
      ],
      "source": [
        "os.chdir('/content/drive/MyDrive/colab_code_study/Transformer_advanced/dataset/bert/ko_wiki/all')\n",
        "#\n",
        "!git clone https://github.com/attardi/wikiextractor.git"
      ]
    },
    {
      "cell_type": "code",
      "execution_count": null,
      "metadata": {
        "colab": {
          "base_uri": "https://localhost:8080/"
        },
        "id": "JBplt6a7-6fB",
        "outputId": "39be55ab-fed5-4002-8d80-f88bf0b9cf55"
      },
      "outputs": [
        {
          "output_type": "stream",
          "name": "stdout",
          "text": [
            "--2024-05-22 08:31:25--  https://dumps.wikimedia.org/kowiki/latest/kowiki-latest-pages-articles.xml.bz2\n",
            "Resolving dumps.wikimedia.org (dumps.wikimedia.org)... 208.80.154.71, 2620:0:861:3:208:80:154:71\n",
            "Connecting to dumps.wikimedia.org (dumps.wikimedia.org)|208.80.154.71|:443... connected.\n",
            "HTTP request sent, awaiting response... 200 OK\n",
            "Length: 818767889 (781M) [application/octet-stream]\n",
            "Saving to: ‘kowiki-latest-pages-articles.xml.bz2.10’\n",
            "\n",
            "kowiki-latest-pages 100%[===================>] 780.84M  4.99MB/s    in 2m 38s  \n",
            "\n",
            "2024-05-22 08:34:04 (4.95 MB/s) - ‘kowiki-latest-pages-articles.xml.bz2.10’ saved [818767889/818767889]\n",
            "\n"
          ]
        }
      ],
      "source": [
        "os.chdir('/content/drive/MyDrive/colab_code_study/Transformer_advanced/dataset/bert/ko_wiki/all/wikiextractor/wikiextractor')\n",
        "#\n",
        "!wget https://dumps.wikimedia.org/kowiki/latest/kowiki-latest-pages-articles.xml.bz2"
      ]
    },
    {
      "cell_type": "markdown",
      "metadata": {
        "id": "hx8CAyp_rpo5"
      },
      "source": [
        "* 아래 코드를 실행하면 상당히 오랜 시간이 걸림.\n",
        "* 그래서 Preprocessed 1900000 pages 가 뜨고 난 다음에 몇개 파일 추출 후에 중단 하였음."
      ]
    },
    {
      "cell_type": "code",
      "execution_count": null,
      "metadata": {
        "colab": {
          "base_uri": "https://localhost:8080/"
        },
        "id": "ARPONOK1Ba1z",
        "outputId": "e5deb357-a815-43e6-833a-46e4837d12e5"
      },
      "outputs": [
        {
          "output_type": "stream",
          "name": "stdout",
          "text": [
            "INFO: Preprocessing 'kowiki-latest-pages-articles.xml.bz2' to collect template definitions: this may take some time.\n",
            "Traceback (most recent call last):\n",
            "  File \"/usr/lib/python3.10/runpy.py\", line 196, in _run_module_as_main\n",
            "    return _run_code(code, main_globals, None,\n",
            "  File \"/usr/lib/python3.10/runpy.py\", line 86, in _run_code\n",
            "    exec(code, run_globals)\n",
            "  File \"/content/drive/.shortcut-targets-by-id/1NX_q1FRVoe10MisxnhXJl8hIxTcJTk33/Transformer_advanced/dataset/bert/ko_wiki/all/wikiextractor/wikiextractor/WikiExtractor.py\", line 643, in <module>\n",
            "    main()\n",
            "  File \"/content/drive/.shortcut-targets-by-id/1NX_q1FRVoe10MisxnhXJl8hIxTcJTk33/Transformer_advanced/dataset/bert/ko_wiki/all/wikiextractor/wikiextractor/WikiExtractor.py\", line 639, in main\n",
            "    process_dump(input_file, args.templates, output_path, file_size,\n",
            "  File \"/content/drive/.shortcut-targets-by-id/1NX_q1FRVoe10MisxnhXJl8hIxTcJTk33/Transformer_advanced/dataset/bert/ko_wiki/all/wikiextractor/wikiextractor/WikiExtractor.py\", line 394, in process_dump\n",
            "    templates = load_templates(input, template_file)\n",
            "  File \"/content/drive/.shortcut-targets-by-id/1NX_q1FRVoe10MisxnhXJl8hIxTcJTk33/Transformer_advanced/dataset/bert/ko_wiki/all/wikiextractor/wikiextractor/WikiExtractor.py\", line 208, in load_templates\n",
            "    for line in file:\n",
            "  File \"/usr/lib/python3.10/bz2.py\", line 176, in read1\n",
            "    return self._buffer.read1(size)\n",
            "  File \"/usr/lib/python3.10/_compression.py\", line 68, in readinto\n",
            "    data = self.read(len(byte_view))\n",
            "  File \"/usr/lib/python3.10/_compression.py\", line 103, in read\n",
            "    data = self._decompressor.decompress(rawblock, size)\n",
            "KeyboardInterrupt\n",
            "^C\n"
          ]
        }
      ],
      "source": [
        "os.chdir('/content/drive/MyDrive/colab_code_study/Transformer_advanced/dataset/bert/ko_wiki/all/wikiextractor')\n",
        "#\n",
        "!python -m wikiextractor.WikiExtractor kowiki-latest-pages-articles.xml.bz2"
      ]
    },
    {
      "cell_type": "markdown",
      "metadata": {
        "id": "gnuZHmiqFPA9"
      },
      "source": [
        "#### 1-2. 하나의 파일로 만들기"
      ]
    },
    {
      "cell_type": "markdown",
      "metadata": {
        "id": "2RMIeQxIFEis"
      },
      "source": [
        "* 추출 후 조각 나 있는 말뭉치들을 하나의 파일로 만들고 싶다면 아래 내용을 실행"
      ]
    },
    {
      "cell_type": "code",
      "execution_count": null,
      "metadata": {
        "id": "wArSv9pe7p-E"
      },
      "outputs": [],
      "source": [
        "def wiki_merge(wiki_path, output_file_path='corpus.txt', recursive=False, verbose=False):\n",
        "    import glob\n",
        "    #\n",
        "    with open(output_file_path, mode='w', newline='\\n') as ofile:\n",
        "        for dirname in glob.glob(wiki_path + '/*/', recursive=False):\n",
        "            num_files_in_dir = len(glob.glob(dirname + 'wiki_*', recursive=recursive))\n",
        "            for filename in tqdm(glob.glob(dirname + 'wiki_*', recursive=recursive),\n",
        "                                 total=num_files_in_dir, leave=True, desc=\"[\" + dirname.split('/')[-2] + \"]\"):\n",
        "                article_lines = []\n",
        "                article_open = False\n",
        "\n",
        "                with open(filename, mode='r', newline='\\n') as file:\n",
        "                    for line in file:\n",
        "                        if '<doc id=' in line:\n",
        "                            # <doc id 가 wiki 의 하나의 article 시작을 알림.\n",
        "                            article_open = True\n",
        "                        elif '</doc>' in line:\n",
        "                            # </doc> 가 wiki 의 하나의 article 끝을 의미.\n",
        "                            article_open = False\n",
        "                            # 하나의 article 본문을 모은 article_lines 를 파일에다가\n",
        "                            # write 함.\n",
        "                            for oline in article_lines[1:]:\n",
        "                                if oline != '\\n':\n",
        "                                    ofile.write(oline.rstrip() + \" \")\n",
        "                            ofile.write(\"\\n\\n\")\n",
        "                            article_lines = []\n",
        "                        else:\n",
        "                            # 파일로 부터 한줄을 읽었을 때, <doc id 도 없고 </doc> 이 없으면\n",
        "                            # 하나의 article 의 본문 내용이므로 append 로 모음.\n",
        "                            if article_open:\n",
        "                                article_lines.append(line)\n",
        "    ofile.close()"
      ]
    },
    {
      "cell_type": "code",
      "execution_count": null,
      "metadata": {
        "id": "jLqd8XjFEyqz",
        "colab": {
          "base_uri": "https://localhost:8080/",
          "height": 399
        },
        "outputId": "01d8ce7e-368f-4972-c3a2-48a64f7d3657"
      },
      "outputs": [
        {
          "output_type": "stream",
          "name": "stderr",
          "text": [
            "[AA]: 100%|██████████| 100/100 [00:03<00:00, 32.75it/s]\n",
            "[AB]: 100%|██████████| 100/100 [00:03<00:00, 26.74it/s]\n",
            "[AC]: 100%|██████████| 100/100 [00:03<00:00, 29.29it/s]\n",
            "[AD]:  45%|████▌     | 45/100 [00:02<00:03, 18.20it/s]\n"
          ]
        },
        {
          "output_type": "error",
          "ename": "KeyboardInterrupt",
          "evalue": "",
          "traceback": [
            "\u001b[0;31m---------------------------------------------------------------------------\u001b[0m",
            "\u001b[0;31mKeyboardInterrupt\u001b[0m                         Traceback (most recent call last)",
            "\u001b[0;32m<ipython-input-11-9931ced0609e>\u001b[0m in \u001b[0;36m<cell line: 3>\u001b[0;34m()\u001b[0m\n\u001b[1;32m      1\u001b[0m \u001b[0mwiki_path\u001b[0m \u001b[0;34m=\u001b[0m \u001b[0;34m'/content/drive/MyDrive/colab_code_study/Transformer_advanced/dataset/bert/ko_wiki/all/wikiextractor/text/'\u001b[0m\u001b[0;34m\u001b[0m\u001b[0;34m\u001b[0m\u001b[0m\n\u001b[1;32m      2\u001b[0m \u001b[0;31m#\u001b[0m\u001b[0;34m\u001b[0m\u001b[0;34m\u001b[0m\u001b[0m\n\u001b[0;32m----> 3\u001b[0;31m texts = wiki_merge(wiki_path=wiki_path,\n\u001b[0m\u001b[1;32m      4\u001b[0m                    output_file_path='corpus.txt')\n",
            "\u001b[0;32m<ipython-input-10-ec683dc6d1a8>\u001b[0m in \u001b[0;36mwiki_merge\u001b[0;34m(wiki_path, output_file_path, recursive, verbose)\u001b[0m\n\u001b[1;32m     12\u001b[0m                 \u001b[0;32mwith\u001b[0m \u001b[0mopen\u001b[0m\u001b[0;34m(\u001b[0m\u001b[0mfilename\u001b[0m\u001b[0;34m,\u001b[0m \u001b[0mmode\u001b[0m\u001b[0;34m=\u001b[0m\u001b[0;34m'r'\u001b[0m\u001b[0;34m,\u001b[0m \u001b[0mnewline\u001b[0m\u001b[0;34m=\u001b[0m\u001b[0;34m'\\n'\u001b[0m\u001b[0;34m)\u001b[0m \u001b[0;32mas\u001b[0m \u001b[0mfile\u001b[0m\u001b[0;34m:\u001b[0m\u001b[0;34m\u001b[0m\u001b[0;34m\u001b[0m\u001b[0m\n\u001b[1;32m     13\u001b[0m                     \u001b[0;32mfor\u001b[0m \u001b[0mline\u001b[0m \u001b[0;32min\u001b[0m \u001b[0mfile\u001b[0m\u001b[0;34m:\u001b[0m\u001b[0;34m\u001b[0m\u001b[0;34m\u001b[0m\u001b[0m\n\u001b[0;32m---> 14\u001b[0;31m                         \u001b[0;32mif\u001b[0m \u001b[0;34m'<doc id='\u001b[0m \u001b[0;32min\u001b[0m \u001b[0mline\u001b[0m\u001b[0;34m:\u001b[0m\u001b[0;34m\u001b[0m\u001b[0;34m\u001b[0m\u001b[0m\n\u001b[0m\u001b[1;32m     15\u001b[0m                             \u001b[0;31m# <doc id 가 wiki 의 하나의 article 시작을 알림.\u001b[0m\u001b[0;34m\u001b[0m\u001b[0;34m\u001b[0m\u001b[0m\n\u001b[1;32m     16\u001b[0m                             \u001b[0marticle_open\u001b[0m \u001b[0;34m=\u001b[0m \u001b[0;32mTrue\u001b[0m\u001b[0;34m\u001b[0m\u001b[0;34m\u001b[0m\u001b[0m\n",
            "\u001b[0;31mKeyboardInterrupt\u001b[0m: "
          ]
        }
      ],
      "source": [
        "wiki_path = '/content/drive/MyDrive/colab_code_study/Transformer_advanced/dataset/bert/ko_wiki/all/wikiextractor/text/'\n",
        "#\n",
        "texts = wiki_merge(wiki_path=wiki_path,\n",
        "                   output_file_path='corpus.txt')"
      ]
    },
    {
      "cell_type": "markdown",
      "metadata": {
        "id": "K6-bQoc2Cd2X"
      },
      "source": [
        "#### 1-3. 데이터 정제"
      ]
    },
    {
      "cell_type": "markdown",
      "metadata": {
        "id": "36-u1yJQuP43"
      },
      "source": [
        "* 아래와 같은 불필요한 데이터를 지워야 함."
      ]
    },
    {
      "cell_type": "markdown",
      "metadata": {
        "id": "aEu7Qo98CV8P"
      },
      "source": [
        "![image.png](data:image/png;base64,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)"
      ]
    },
    {
      "cell_type": "code",
      "execution_count": null,
      "metadata": {
        "id": "kEs0GmGtuSVQ"
      },
      "outputs": [],
      "source": [
        "def data_refine(txt_path):\n",
        "    f = open(txt_path, 'r')\n",
        "    num_lines = len(f.readlines())\n",
        "    #\n",
        "    text = []\n",
        "    with open(txt_path, 'r') as f:\n",
        "        with tqdm(total = num_lines) as pbar:\n",
        "            while True:\n",
        "                pbar.update(1)\n",
        "                #\n",
        "                line = f.readline()\n",
        "                #\n",
        "                if not line: break\n",
        "                #\n",
        "                if ('title=' in line) and ('url=' in line) and ('doc id=' in line):\n",
        "                    continue\n",
        "                elif ('</doc>' in line):\n",
        "                    continue\n",
        "                elif ('&lt;' in line) and ('/&gt'):\n",
        "                    continue\n",
        "                elif ('style=\"text-align' in line):\n",
        "                    continue\n",
        "                else:\n",
        "                    text.append(line)\n",
        "                # 위 조건들 말고 이상한게 있으면 더 추가하여 제거할 수 있을 것..\n",
        "    return text"
      ]
    },
    {
      "cell_type": "code",
      "execution_count": null,
      "metadata": {
        "id": "0QeHRcKrEn9T"
      },
      "outputs": [],
      "source": [
        "text_refined = data_refine('corpus.txt')\n",
        "#\n",
        "with open('corpus_refined.txt', 'w') as f:\n",
        "    f.write(''.join(text_refined))"
      ]
    },
    {
      "cell_type": "markdown",
      "metadata": {
        "id": "FtrvVMn4YPK9"
      },
      "source": [
        "#### 1-4. 사전 작업해놓은거 다운"
      ]
    },
    {
      "cell_type": "code",
      "execution_count": null,
      "metadata": {
        "id": "6n6J7qMqvNnJ",
        "colab": {
          "base_uri": "https://localhost:8080/"
        },
        "outputId": "6b8e7bb4-b0e8-4dc1-b302-452c3dfab14d"
      },
      "outputs": [
        {
          "output_type": "stream",
          "name": "stdout",
          "text": [
            "  % Total    % Received % Xferd  Average Speed   Time    Time     Time  Current\n",
            "                                 Dload  Upload   Total   Spent    Left  Speed\n",
            "  0     0    0     0    0     0      0      0 --:--:-- --:--:-- --:--:--     0\n",
            "100 1323k  100 1323k    0     0   690k      0  0:00:01  0:00:01 --:--:-- 1490k\n"
          ]
        }
      ],
      "source": [
        "os.chdir('/content/')\n",
        "#\n",
        "!curl -c ./cookie -s -L \"https://drive.google.com/uc?export=download&id=14tDnuNs6_0FAmgC8aL3Nvv32Owcmv9Yj\" > /dev/null\n",
        "!curl -Lb ./cookie \"https://drive.google.com/uc?export=download&confirm=`awk '/download/ {print $NF}' ./cookie`&id=1zib1GI8Q5wV08TgYBa2GagqNh4jyfXZz\" -o corpus.txt"
      ]
    },
    {
      "cell_type": "markdown",
      "metadata": {
        "id": "WgFo-uOdZkzP"
      },
      "source": [
        "#### 1-5. 문서별로 파일 저장"
      ]
    },
    {
      "cell_type": "markdown",
      "metadata": {
        "id": "IYlxHYldZqo9"
      },
      "source": [
        "* 보통 관련 정보로 구성되어 있는 것을 문서라고 함.\n",
        "* 문서 간에는 \\n\\n 으로 구분되어 있음."
      ]
    },
    {
      "cell_type": "code",
      "execution_count": null,
      "metadata": {
        "id": "8fus3lhwa7Jo"
      },
      "outputs": [],
      "source": [
        "def split_documents(file_path, save_path):\n",
        "    document_lines = []\n",
        "    document_id = 0\n",
        "    #\n",
        "    if not os.path.exists(save_path):\n",
        "        os.makedirs(save_path)\n",
        "    #\n",
        "    f = open(file_path, 'r')\n",
        "    lines = f.readlines()\n",
        "    for i in range(len(lines)):\n",
        "        line = lines[i]\n",
        "        if line == '\\n':\n",
        "            with open(os.path.join(save_path, 'doc_' + str(document_id) + '.txt'), 'w') as ofile:\n",
        "                for oline in document_lines[0:]:\n",
        "                    ofile.write(oline)\n",
        "            ofile.close()\n",
        "            #\n",
        "            document_id += 1\n",
        "            document_lines = []\n",
        "        else:\n",
        "            document_lines.append(line)"
      ]
    },
    {
      "cell_type": "code",
      "execution_count": null,
      "metadata": {
        "id": "7wQU-YfDbp0a"
      },
      "outputs": [],
      "source": [
        "# save_path = '/content/drive/MyDrive/colab_code_study/Transformer_advanced/dataset/bert/ko_wiki/all/document/'\n",
        "save_path = './splitted_documents'\n",
        "split_documents(file_path='corpus.txt', save_path=save_path)"
      ]
    },
    {
      "cell_type": "markdown",
      "metadata": {
        "id": "tDjOCegW1sq5"
      },
      "source": [
        "### 2. Configuration"
      ]
    },
    {
      "cell_type": "code",
      "execution_count": null,
      "metadata": {
        "id": "5E1QKfAN1wPA"
      },
      "outputs": [],
      "source": [
        "# For dataset\n",
        "random_seed = 12345\n",
        "max_seq_length = 128\n",
        "dupe_factor = 10\n",
        "short_seq_prob = 0.1\n",
        "masked_lm_prob = 0.15\n",
        "max_predictions_per_seq = 20\n",
        "limit_alphabet = 6000\n",
        "vocab_size = 32000\n",
        "no_dense_sequence_output = False\n",
        "#\n",
        "# Padding for divisibility by 8\n",
        "if vocab_size % 8 != 0:\n",
        "    vocab_size += 8 - (vocab_size % 8)\n",
        "#\n",
        "dataset_path = './dataset'\n",
        "input_file = './splitted_documents'\n",
        "vocab_txt_path = dataset_path + '/vocab.txt'\n",
        "\n",
        "# For training\n",
        "device_id = '0'\n",
        "hidden_size = 768\n",
        "n_layers_for_encoder = 6\n",
        "n_attn_heads = 6\n",
        "model_fp16 = False\n",
        "\n",
        "lr = 1e-4\n",
        "warmup_proportion = 1e-2\n",
        "epochs = 300\n",
        "max_steps = 1000\n",
        "\n",
        "batch_size = 16\n",
        "pin_memory = True\n",
        "num_workers = 3\n",
        "\n",
        "gradient_accumulation_steps = 10"
      ]
    },
    {
      "cell_type": "markdown",
      "metadata": {
        "id": "gioxUI19pF7n"
      },
      "source": [
        "### 3. DataObject Class"
      ]
    },
    {
      "cell_type": "markdown",
      "metadata": {
        "id": "qHioZtgvRhbm"
      },
      "source": [
        "#### 3-1. Class"
      ]
    },
    {
      "cell_type": "code",
      "execution_count": null,
      "metadata": {
        "id": "lnacBvE6uPo7"
      },
      "outputs": [],
      "source": [
        "class TrainingInstance_w_IDs(object):\n",
        "    \"\"\"A single training instance (sentence pair).\"\"\"\n",
        "    def __init__(self, tokens, tokens_ids,\n",
        "                 segment_ids, masked_lm_positions, masked_lm_labels,\n",
        "                 masked_lm_encoded_ids,\n",
        "                 is_random_next):\n",
        "        super().__init__()\n",
        "        self.tokens = tokens\n",
        "        self.tokens_ids = tokens_ids\n",
        "        self.segment_ids = segment_ids\n",
        "        self.is_random_next = is_random_next\n",
        "        self.masked_lm_positions = masked_lm_positions\n",
        "        self.masked_lm_labels = masked_lm_labels\n",
        "        self.masked_lm_encoded_ids = masked_lm_encoded_ids\n",
        "\n",
        "    def __str__(self):\n",
        "        s = \"\"\n",
        "        s += \"tokens: %s\\n\" % (\" \".join([x for x in self.tokens]))\n",
        "        s += \"tokens_ids: %s\\n\" % (\" \".join([x for x in self.tokens_ids]))\n",
        "        s += \"segment_ids: %s\\n\" % (\" \".join([str(x) for x in self.segment_ids]))\n",
        "        s += \"is_random_next: %s\\n\" % self.is_random_next\n",
        "        s += \"masked_lm_positions: %s\\n\" % (\" \".join(\n",
        "            [str(x) for x in self.masked_lm_positions]))\n",
        "        s += \"masked_lm_labels: %s\\n\" % (\" \".join(\n",
        "            [x for x in self.masked_lm_labels]))\n",
        "        s += \"masked_lm_encoded_ids: %s\\n\" % (\" \".join(\n",
        "            [x for x in self.masked_lm_encoded_ids]))\n",
        "        s += \"\\n\"\n",
        "        return s"
      ]
    },
    {
      "cell_type": "code",
      "execution_count": null,
      "metadata": {
        "id": "QYqjrh4_pTat"
      },
      "outputs": [],
      "source": [
        "class bert_dataset(Dataset):\n",
        "    def __init__(self, max_seq_length,\n",
        "                 dupe_factor, short_seq_prob, masked_lm_prob,\n",
        "                 max_predictions_per_seq, random_seed,\n",
        "                 input_file, dataset_path, vocab_txt_path,\n",
        "                 limit_alphabet, vocab_size, mode='train', new_data=True,\n",
        "                 saved_dataset_path=None,\n",
        "                 saved_vocab_path=None):\n",
        "        super().__init__()\n",
        "        #\n",
        "        if new_data:\n",
        "            input_files = self.get_input_files(input_file)\n",
        "            #\n",
        "            self.tokenizer, vocab_save_path = self.train_tokenizer(input_files, limit_alphabet,\n",
        "                                                                   vocab_size, dataset_path)\n",
        "            #\n",
        "            self.preprocessing_vocab_txt(vocab_save_path, vocab_txt_path)\n",
        "            #\n",
        "            rng = random.Random(random_seed)\n",
        "            #\n",
        "            save_data_instances_path = self.make_data_instance(input_files, self.tokenizer, max_seq_length,\n",
        "                                                              dupe_factor, short_seq_prob, masked_lm_prob,\n",
        "                                                              max_predictions_per_seq, rng, vocab_txt_path,\n",
        "                                                              dataset_path, mode)\n",
        "            #\n",
        "            self.instances = self.load_saved_training_instance(save_data_instances_path)\n",
        "        else:\n",
        "            assert saved_dataset_path is not None, 'saved_dataset_path is needed!'\n",
        "            assert saved_vocab_path is not None, 'saved_vocab_path is needed!'\n",
        "            #\n",
        "            self.tokenizer = self.load_tokenizer(saved_vocab_path)\n",
        "            #\n",
        "            self.instances = self.load_saved_training_instance(saved_dataset_path)\n",
        "            #\n",
        "            assert len(self.instances) > 0, 'Invalid saved_dataset_path...'\n",
        "\n",
        "    def __len__(self):\n",
        "        return len(self.instances[\"input_ids\"])\n",
        "\n",
        "    def __getitem__(self, index):\n",
        "        data = collections.OrderedDict()\n",
        "        #\n",
        "        data[\"input_ids\"] = self.instances[\"input_ids\"][index]\n",
        "        data[\"input_mask\"] = self.instances[\"input_mask\"][index]\n",
        "        data[\"segment_ids\"] = self.instances[\"segment_ids\"][index]\n",
        "        data[\"masked_lm_positions\"] = self.instances[\"masked_lm_positions\"][index]\n",
        "        data[\"masked_lm_ids\"] = self.instances[\"masked_lm_ids\"][index]\n",
        "        data[\"next_sentence_labels\"] = self.instances[\"next_sentence_labels\"][index]\n",
        "        #\n",
        "        return data\n",
        "\n",
        "    @staticmethod\n",
        "    def get_input_files(input_file):\n",
        "        print(\"=\"*30)\n",
        "        print(\"[Input Files] Getting input file paths...\")\n",
        "        print(\"=\"*30)\n",
        "\n",
        "        input_files = []\n",
        "        #\n",
        "        if os.path.isfile(input_file):\n",
        "          input_files.append(input_file)\n",
        "        elif os.path.isdir(input_file):\n",
        "          input_files = [os.path.join(input_file, f) for f in os.listdir(input_file) if (os.path.isfile(os.path.join(input_file, f)) and f.endswith('.txt') )]\n",
        "        else:\n",
        "          raise ValueError(\"{} is not a valid path\".format(input_file))\n",
        "        #\n",
        "        return input_files\n",
        "\n",
        "    @staticmethod\n",
        "    def load_tokenizer(saved_vocab_path):\n",
        "        print(\"=\"*30)\n",
        "        print(\"[SubTokenizer] Loading BERT-Tokenizer, {}\".format(saved_vocab_path))\n",
        "        #\n",
        "        wordpieces_prefix = \"##\"\n",
        "        tokenizer = BertWordPieceTokenizer(\n",
        "            vocab=saved_vocab_path,\n",
        "            clean_text=True,\n",
        "            handle_chinese_chars=True,\n",
        "            strip_accents=False,\n",
        "            lowercase=False,\n",
        "            wordpieces_prefix=wordpieces_prefix)\n",
        "        print(\"=\"*30)\n",
        "        return tokenizer\n",
        "\n",
        "    @staticmethod\n",
        "    def train_tokenizer(input_files, limit_alphabet, vocab_size, dataset_path):\n",
        "        print(\"=\"*30)\n",
        "        print(\"[SubTokenizer] Training BERT-Tokenizer with WordPieceSubTokenizer\")\n",
        "        #\n",
        "        wordpieces_prefix = \"##\"\n",
        "        #\n",
        "        tokenizer = BertWordPieceTokenizer(\n",
        "            vocab=None,\n",
        "            clean_text=True,\n",
        "            handle_chinese_chars=True,\n",
        "            strip_accents=False,\n",
        "            lowercase=False,\n",
        "            wordpieces_prefix=wordpieces_prefix)\n",
        "        #\n",
        "        tokenizer.train(input_files,\n",
        "                        limit_alphabet=limit_alphabet, vocab_size=vocab_size,\n",
        "                        wordpieces_prefix=wordpieces_prefix,\n",
        "                        show_progress=True)\n",
        "        #\n",
        "        if not os.path.exists(dataset_path):\n",
        "            os.makedirs(dataset_path)\n",
        "        #\n",
        "        save_path = os.path.join(dataset_path, \"ch-{}-wpm-{}-pretty\".format(limit_alphabet, vocab_size))\n",
        "        print(\"Save Trained Tokenizer... {}\".format(save_path))\n",
        "        print(\"=\"*30)\n",
        "        tokenizer.save(save_path, True)\n",
        "        #\n",
        "        return tokenizer, save_path\n",
        "\n",
        "    @staticmethod\n",
        "    def preprocessing_vocab_txt(vocab_save_path, vocab_txt_save_path):\n",
        "        print(\"=\"*30)\n",
        "        print(\"[Preprocessing vocab.txt] Preprocessing...\")\n",
        "\n",
        "        bert_dataset.make_vocab_txt(vocab_path = vocab_save_path,\n",
        "                                    vocab_txt_save_path = vocab_txt_save_path)\n",
        "        print(\"=\"*30)\n",
        "\n",
        "    @staticmethod\n",
        "    def make_data_instance(input_files, tokenizer, max_seq_length,\n",
        "                           dupe_factor, short_seq_prob, masked_lm_prob,\n",
        "                           max_predictions_per_seq, rng, vocab_txt_path,\n",
        "                           dataset_path, mode):\n",
        "        #\n",
        "        instances = bert_dataset.create_training_instances_w_ids(\n",
        "            input_files, tokenizer, max_seq_length, dupe_factor,\n",
        "            short_seq_prob, masked_lm_prob, max_predictions_per_seq,\n",
        "            rng, vocab_txt_path)\n",
        "        #\n",
        "        save_data_instances_path = os.path.join(dataset_path, mode + '_instances')\n",
        "        #\n",
        "        bert_dataset.write_instance_to_example_file(instances,\n",
        "                                                    max_seq_length,\n",
        "                                                    max_predictions_per_seq,\n",
        "                                                    output_file=save_data_instances_path)\n",
        "        return save_data_instances_path\n",
        "\n",
        "    @staticmethod\n",
        "    def load_saved_training_instance(save_path):\n",
        "        features = collections.OrderedDict()\n",
        "\n",
        "        print(\"=\"*30)\n",
        "        print(\"[Loading Training Instances] {}\".format(save_path))\n",
        "\n",
        "        with h5py.File(save_path, 'r') as f:\n",
        "          features[\"input_ids\"] = f['input_ids'][:]\n",
        "          features[\"input_mask\"] = f['input_mask'][:]\n",
        "          features[\"segment_ids\"] = f['segment_ids'][:]\n",
        "          features[\"masked_lm_positions\"] = f['masked_lm_positions'][:]\n",
        "          features[\"masked_lm_ids\"] = f['masked_lm_ids'][:]\n",
        "          features[\"next_sentence_labels\"] = f['next_sentence_labels'][:]\n",
        "        f.close()\n",
        "\n",
        "        print(\"Total Loaded Data: {}\".format(len(features[\"input_ids\"])))\n",
        "        print(\"=\"*30)\n",
        "        return features\n",
        "\n",
        "    @staticmethod\n",
        "    def create_training_instances_w_ids(input_files, tokenizer, max_seq_length,\n",
        "                                        dupe_factor, short_seq_prob, masked_lm_prob,\n",
        "                                        max_predictions_per_seq, rng, vocab_txt_path):\n",
        "        \"\"\"Create `TrainingInstance`s from raw text.\"\"\"\n",
        "        print(\"=\"*30)\n",
        "        print(\"[Creating Training Instances]\")\n",
        "\n",
        "        all_documents = [[]]\n",
        "        all_documents_ids = [[]]\n",
        "\n",
        "        for input_file in sorted(input_files):\n",
        "          # print(\"creating instance from {}\".format(input_file))\n",
        "          with open(input_file, \"r\") as reader:\n",
        "            while True:\n",
        "              line = reader.readline()\n",
        "              line = line.strip()\n",
        "\n",
        "              # Empty lines are used as document delimiters\n",
        "              if not line:\n",
        "                all_documents.append([])\n",
        "                all_documents_ids.append([])\n",
        "                break\n",
        "              encoded = tokenizer.encode(line)\n",
        "              tokens = encoded.tokens\n",
        "              ids = encoded.ids\n",
        "              if tokens:\n",
        "                all_documents[-1].append(tokens)\n",
        "                all_documents_ids[-1].append(ids)\n",
        "\n",
        "          # Remove empty documents\n",
        "          all_documents_ = []\n",
        "          all_documents_ids_ = []\n",
        "          idx = 0\n",
        "          for x in all_documents:\n",
        "            if x:\n",
        "              all_documents_.append(x)\n",
        "              all_documents_ids_.append(all_documents_ids[idx])\n",
        "            idx += 1\n",
        "\n",
        "        vocab_words = list(map(lambda x : x.rstrip(),\n",
        "                              open(vocab_txt_path, 'r').readlines()))[5:]\n",
        "        special_ids = {\"[PAD]\": 0, \"[UNK]\": 1, \"[CLS]\": 2, \"[SEP]\": 3, \"[MASK]\": 4}\n",
        "\n",
        "        instances = []\n",
        "        for _ in range(dupe_factor):\n",
        "          for document_index in range(len(all_documents_)):\n",
        "            instances.extend(\n",
        "                bert_dataset.create_instances_from_document_w_ids(\n",
        "                    all_documents_, all_documents_ids_, document_index, max_seq_length, short_seq_prob,\n",
        "                    masked_lm_prob, max_predictions_per_seq, vocab_words, rng,\n",
        "                    special_ids))\n",
        "\n",
        "        rng.shuffle(instances)\n",
        "\n",
        "        print(\"Total Instances: \", len(instances))\n",
        "        print(\"=\"*30)\n",
        "\n",
        "        return instances\n",
        "\n",
        "    @staticmethod\n",
        "    def create_instances_from_document_w_ids(\n",
        "      all_documents, all_documents_ids, document_index, max_seq_length, short_seq_prob,\n",
        "      masked_lm_prob, max_predictions_per_seq, vocab_words, rng,\n",
        "      special_ids = {\"[PAD]\": 0, \"[UNK]\": 1, \"[CLS]\": 2, \"[SEP]\": 3, \"[MASK]\": 4}):\n",
        "\n",
        "      \"\"\"Creates `TrainingInstance`s for a single document.\"\"\"\n",
        "      document = all_documents[document_index]\n",
        "      document_ids = all_documents_ids[document_index]\n",
        "\n",
        "      # Account for [CLS], [SEP], [SEP]\n",
        "      max_num_tokens = max_seq_length - 3\n",
        "\n",
        "      # We *usually* want to fill up the entire sequence since we are padding\n",
        "      # to `max_seq_length` anyways, so short sequences are generally wasted\n",
        "      # computation. However, we *sometimes*\n",
        "      # (i.e., short_seq_prob == 0.1 == 10% of the time) want to use shorter\n",
        "      # sequences to minimize the mismatch between pre-training and fine-tuning.\n",
        "      # The `target_seq_length` is just a rough target however, whereas\n",
        "      # `max_seq_length` is a hard limit.\n",
        "      target_seq_length = max_num_tokens\n",
        "      if rng.random() < short_seq_prob:\n",
        "        target_seq_length = rng.randint(2, max_num_tokens)\n",
        "\n",
        "      # We DON'T just concatenate all of the tokens from a document into a long\n",
        "      # sequence and choose an arbitrary split point because this would make the\n",
        "      # next sentence prediction task too easy. Instead, we split the input into\n",
        "      # segments \"A\" and \"B\" based on the actual \"sentences\" provided by the user\n",
        "      # input.\n",
        "      instances = []\n",
        "      current_chunk = []\n",
        "      current_chunk_ids = []\n",
        "      #\n",
        "      current_length = 0\n",
        "      #\n",
        "      i = 0\n",
        "      while i < len(document):\n",
        "        segment = document[i]\n",
        "        seg_id = document_ids[i]\n",
        "        #\n",
        "        assert len(segment) == len(seg_id)\n",
        "        #\n",
        "        current_chunk.append(segment)\n",
        "        current_chunk_ids.append(seg_id)\n",
        "        #\n",
        "        assert len(current_chunk) == len(current_chunk_ids)\n",
        "        #\n",
        "        current_length += len(segment)\n",
        "        #\n",
        "        if (i == len(document) - 1 or current_length >= target_seq_length) and len(current_chunk) >= 2:\n",
        "          if current_chunk:\n",
        "            # `a_end` is how many segments from `current_chunk` go into the `A`\n",
        "            # (first) sentence.\n",
        "            a_end = 1\n",
        "            if len(current_chunk) >= 2:\n",
        "              a_end = rng.randint(1, len(current_chunk) - 1)\n",
        "\n",
        "            tokens_a = []\n",
        "            tokens_a_ids = []\n",
        "            for j in range(a_end):\n",
        "              tokens_a.extend(current_chunk[j])\n",
        "              tokens_a_ids.extend(current_chunk_ids[j])\n",
        "\n",
        "            tokens_b = []\n",
        "            tokens_b_ids = []\n",
        "            # Random next\n",
        "            is_random_next = False\n",
        "            if len(current_chunk) == 1 or rng.random() < 0.5:\n",
        "              is_random_next = True\n",
        "              target_b_length = target_seq_length - len(tokens_a)\n",
        "\n",
        "              # This should rarely go for more than one iteration for large\n",
        "              # corpora. However, just to be careful, we try to make sure that\n",
        "              # the random document is not the same as the document\n",
        "              # we're processing.\n",
        "              for _ in range(10):\n",
        "                random_document_index = rng.randint(0, len(all_documents) - 1)\n",
        "                if random_document_index != document_index:\n",
        "                  break\n",
        "\n",
        "              #If picked random document is the same as the current document\n",
        "              if random_document_index == document_index:\n",
        "                is_random_next = False\n",
        "\n",
        "              random_document = all_documents[random_document_index]\n",
        "              random_document_ids = all_documents_ids[random_document_index]\n",
        "              #\n",
        "              random_start = rng.randint(0, len(random_document) - 1)\n",
        "              for j in range(random_start, len(random_document)):\n",
        "                tokens_b.extend(random_document[j])\n",
        "                tokens_b_ids.extend(random_document_ids[j])\n",
        "                if len(tokens_b) >= target_b_length:\n",
        "                  break\n",
        "              # We didn't actually use these segments so we \"put them back\" so\n",
        "              # they don't go to waste.\n",
        "              num_unused_segments = len(current_chunk) - a_end\n",
        "              i -= num_unused_segments\n",
        "            # Actual next\n",
        "            else:\n",
        "              is_random_next = False\n",
        "              for j in range(a_end, len(current_chunk)):\n",
        "                tokens_b.extend(current_chunk[j])\n",
        "                tokens_b_ids.extend(current_chunk_ids[j])\n",
        "\n",
        "            assert len(tokens_a) == len(tokens_a_ids)\n",
        "            assert len(tokens_b) == len(tokens_b_ids)\n",
        "            #\n",
        "            bert_dataset.truncate_seq_pair_w_ids(tokens_a, tokens_b, tokens_a_ids, tokens_b_ids, max_num_tokens, rng)\n",
        "\n",
        "            assert len(tokens_a) >= 1\n",
        "            assert len(tokens_b) >= 1\n",
        "            assert len(tokens_a) == len(tokens_a_ids)\n",
        "            assert len(tokens_b) == len(tokens_b_ids)\n",
        "\n",
        "            tokens = []\n",
        "            tokens_ids = []\n",
        "            segment_ids = []\n",
        "            #\n",
        "            tokens.append(\"[CLS]\")\n",
        "            tokens_ids.append(special_ids[\"[CLS]\"])\n",
        "            segment_ids.append(0)\n",
        "            for token in tokens_a:\n",
        "              tokens.append(token)\n",
        "              segment_ids.append(0)\n",
        "            for token_id in tokens_a_ids:\n",
        "              tokens_ids.append(token_id)\n",
        "\n",
        "            tokens.append(\"[SEP]\")\n",
        "            tokens_ids.append(special_ids[\"[SEP]\"])\n",
        "            segment_ids.append(0)\n",
        "            for token in tokens_b:\n",
        "              tokens.append(token)\n",
        "              segment_ids.append(1)\n",
        "            for token_id in tokens_b_ids:\n",
        "              tokens_ids.append(token_id)\n",
        "\n",
        "            tokens.append(\"[SEP]\")\n",
        "            tokens_ids.append(special_ids[\"[SEP]\"])\n",
        "            segment_ids.append(1)\n",
        "\n",
        "            assert len(tokens) == len(tokens_ids)\n",
        "            assert len(tokens) == len(segment_ids)\n",
        "\n",
        "            (tokens, tokens_ids, masked_lm_positions,\n",
        "            masked_lm_labels, masked_lm_encoded_ids) = bert_dataset.create_masked_lm_predictions_w_ids(\n",
        "                tokens, tokens_ids, masked_lm_prob, max_predictions_per_seq, vocab_words, rng,\n",
        "                special_ids)\n",
        "            instance = TrainingInstance_w_IDs(\n",
        "                tokens=tokens,\n",
        "                tokens_ids=tokens_ids,\n",
        "                segment_ids=segment_ids,\n",
        "                is_random_next=is_random_next,\n",
        "                masked_lm_positions=masked_lm_positions,\n",
        "                masked_lm_labels=masked_lm_labels,\n",
        "                masked_lm_encoded_ids=masked_lm_encoded_ids)\n",
        "            instances.append(instance)\n",
        "\n",
        "          current_chunk = []\n",
        "          current_chunk_ids = []\n",
        "          current_length = 0\n",
        "        i += 1\n",
        "      return instances\n",
        "\n",
        "    @staticmethod\n",
        "    def create_masked_lm_predictions_w_ids(tokens,\n",
        "                                       tokens_ids,\n",
        "                                       masked_lm_prob, max_predictions_per_seq,\n",
        "                                       vocab_words, rng,\n",
        "                                       special_ids):\n",
        "        \"\"\"Creates the predictions for the masked LM objective.\"\"\"\n",
        "        \"\"\"\n",
        "          - max_predictions_per_seq: [MASK] 할 최대 Tokens 수\n",
        "          - masked_lm_prob: Token 하나당 [MASK] 될 확률\n",
        "          - vocab_words: vocab.txt 안의 vocabulary 들 (special tokens 들은 제외)\n",
        "        \"\"\"\n",
        "\n",
        "        MaskedLmInstance = collections.namedtuple(\n",
        "            \"MaskedLmInstance\", [\"index\", \"label\", \"encoded_ids\"]\n",
        "            )\n",
        "\n",
        "        # ---- MASKING 할 수 있는 Tokens 의 index 들을 Collect\n",
        "        cand_indexes = []\n",
        "        for (i, token) in enumerate(tokens):\n",
        "            if token == \"[CLS]\" or token == \"[SEP]\":  # [CLS], [SEP]는 마스킹 후보에서 제외\n",
        "                continue\n",
        "            cand_indexes.append(i)\n",
        "        rng.shuffle(cand_indexes)\n",
        "\n",
        "        # ---- 몇개를 마스킹 할 것인지 결정 ----\n",
        "        #   1) 토큰 개수 * masked_lm_prob (masked_lm_prob=0.15 -> 약 20개)\n",
        "        #   2) max_predictions_per_seq\n",
        "        # 위 1) 과 2) 중 더 작은 수 만큼 마스킹 함.\n",
        "        num_to_predict = min(max_predictions_per_seq,\n",
        "                            max(1, int(round(len(tokens) * masked_lm_prob)))\n",
        "                            )\n",
        "\n",
        "        # ---- 마스킹할 Tokens 결정 ----\n",
        "        masked_lms = []  # 마스킹 된 토큰 객체 (인덱스와 라벨이 포함되어있다)\n",
        "        covered_indexes = set()  # 마스킹할 토큰의 인덱스\n",
        "\n",
        "        output_tokens = list(tokens)\n",
        "        output_tokens_ids = list(tokens_ids)\n",
        "        for index in cand_indexes:\n",
        "            if len(masked_lms) >= num_to_predict:  # 목표치 채웠으면 끝내고\n",
        "                break\n",
        "            if index in covered_indexes:  # 이미 마스킹된 index 면 건너뛰기\n",
        "                continue\n",
        "            # 해당 Index 마스킹 할 것이다.\n",
        "            covered_indexes.add(index)\n",
        "\n",
        "            # 80% of the time, replace with [MASK]\n",
        "            if rng.random() < 0.8:\n",
        "                # 0.8의 확률로 마스킹\n",
        "                masked_token = \"[MASK]\"\n",
        "                masked_token_ids = special_ids[\"[MASK]\"]\n",
        "            else:\n",
        "                if rng.random() < 0.5:\n",
        "                    # 0.1의 확률로 그대로\n",
        "                    masked_token = tokens[index]\n",
        "                    masked_token_ids = tokens_ids[index]\n",
        "                else:\n",
        "                    # 0.1의 확률로 랜덤 토큰\n",
        "                    masked_token_ids = rng.randint(0, len(vocab_words) - 1)\n",
        "                    masked_token = vocab_words[masked_token_ids]\n",
        "\n",
        "            # ---- 마스킹된 토큰으로 교체 ----\n",
        "            output_tokens[index] = masked_token\n",
        "            output_tokens_ids[index] = masked_token_ids\n",
        "\n",
        "            # ---- 마스킹한 토큰의 인덱스와 라벨 저장 ----\n",
        "            masked_lms.append(\n",
        "                MaskedLmInstance(\n",
        "                    index=index,\n",
        "                    label=tokens[index],\n",
        "                    encoded_ids=tokens_ids[index])\n",
        "                )\n",
        "\n",
        "        masked_lms = sorted(masked_lms, key=lambda x: x.index)  # Index 로 정렬\n",
        "\n",
        "        masked_lm_positions = []\n",
        "        masked_lm_labels = []\n",
        "        masked_lm_encoded_ids = []\n",
        "\n",
        "        for p in masked_lms:\n",
        "            masked_lm_positions.append(p.index)  # 마스킹한 토큰의 인덱스 저장\n",
        "            masked_lm_labels.append(p.label)  # 마스킹한 토큰의 라 저장\n",
        "            masked_lm_encoded_ids.append(p.encoded_ids)\n",
        "\n",
        "        assert len(masked_lm_positions) == len(masked_lm_labels)\n",
        "        assert len(masked_lm_positions) == len(masked_lm_encoded_ids)\n",
        "\n",
        "        # (전체 토큰들 - 마스킹 반영, 마스킹 된 토큰의 위치, 마스킹된 토큰의 라벨)\n",
        "        return output_tokens, output_tokens_ids, masked_lm_positions, masked_lm_labels, masked_lm_encoded_ids\n",
        "\n",
        "    @staticmethod\n",
        "    def truncate_seq_pair_w_ids(tokens_a, tokens_b, tokens_a_ids, tokens_b_ids, max_num_tokens, rng):\n",
        "        \"\"\"Truncates a pair of sequences to a maximum sequence length.\"\"\"\n",
        "        while True:\n",
        "          total_length = len(tokens_a) + len(tokens_b)\n",
        "          if total_length <= max_num_tokens:\n",
        "            break\n",
        "\n",
        "          trunc_tokens = tokens_a if len(tokens_a) > len(tokens_b) else tokens_b\n",
        "          trunc_tokens_ids = tokens_a_ids if len(tokens_a) > len(tokens_b) else tokens_b_ids\n",
        "\n",
        "          assert len(trunc_tokens) >= 1\n",
        "\n",
        "          # We want to sometimes truncate from the front and sometimes from the\n",
        "          # back to add more randomness and avoid biases.\n",
        "          if rng.random() < 0.5:\n",
        "            del trunc_tokens[0]\n",
        "            del trunc_tokens_ids[0]\n",
        "          else:\n",
        "            trunc_tokens.pop()\n",
        "            trunc_tokens_ids.pop()\n",
        "\n",
        "    @staticmethod\n",
        "    def write_instance_to_example_file(instances, max_seq_length,\n",
        "                                       max_predictions_per_seq, output_file):\n",
        "        \"\"\"Create TF example files from `TrainingInstance`s.\"\"\"\n",
        "        print(\"=\"*30)\n",
        "        print(\"[Saving Training Instances]\")\n",
        "\n",
        "        total_written = 0\n",
        "\n",
        "        features = collections.OrderedDict()\n",
        "\n",
        "        num_instances = len(instances)\n",
        "        features[\"input_ids\"] = np.zeros([num_instances, max_seq_length], dtype=\"int32\")\n",
        "        features[\"input_mask\"] = np.zeros([num_instances, max_seq_length], dtype=\"int32\")\n",
        "        features[\"segment_ids\"] = np.zeros([num_instances, max_seq_length], dtype=\"int32\")\n",
        "        features[\"masked_lm_positions\"] =  np.zeros([num_instances, max_predictions_per_seq], dtype=\"int32\")\n",
        "        features[\"masked_lm_ids\"] = np.zeros([num_instances, max_predictions_per_seq], dtype=\"int32\")\n",
        "        features[\"next_sentence_labels\"] = np.zeros(num_instances, dtype=\"int32\")\n",
        "\n",
        "        for inst_index, instance in enumerate(tqdm(instances)):\n",
        "          input_ids = instance.tokens_ids\n",
        "          input_mask = [1] * len(input_ids)\n",
        "          segment_ids = instance.segment_ids\n",
        "          assert len(input_ids) <= max_seq_length\n",
        "          assert len(input_ids) == len(segment_ids)\n",
        "\n",
        "          while len(input_ids) < max_seq_length:\n",
        "            input_ids.append(0)\n",
        "            input_mask.append(0)\n",
        "            segment_ids.append(0)\n",
        "\n",
        "          assert len(input_ids) == max_seq_length\n",
        "          assert len(input_mask) == max_seq_length\n",
        "          assert len(segment_ids) == max_seq_length\n",
        "\n",
        "          masked_lm_positions = list(instance.masked_lm_positions)\n",
        "          masked_lm_ids = instance.masked_lm_encoded_ids\n",
        "          masked_lm_weights = [1.0] * len(masked_lm_ids)\n",
        "\n",
        "          while len(masked_lm_positions) < max_predictions_per_seq:\n",
        "            masked_lm_positions.append(0)\n",
        "            masked_lm_ids.append(0)\n",
        "            masked_lm_weights.append(0.0)\n",
        "\n",
        "          assert len(masked_lm_ids) == max_predictions_per_seq, '{}'.format(len(masked_lm_ids))\n",
        "          assert len(masked_lm_positions) == max_predictions_per_seq, '{}'.format(len(masked_lm_positions))\n",
        "\n",
        "          next_sentence_label = 1 if instance.is_random_next else 0\n",
        "\n",
        "          features[\"input_ids\"][inst_index] = input_ids\n",
        "          features[\"input_mask\"][inst_index] = input_mask\n",
        "          features[\"segment_ids\"][inst_index] = segment_ids\n",
        "          features[\"masked_lm_positions\"][inst_index] = masked_lm_positions\n",
        "          features[\"masked_lm_ids\"][inst_index] = masked_lm_ids\n",
        "          features[\"next_sentence_labels\"][inst_index] = next_sentence_label\n",
        "\n",
        "          total_written += 1\n",
        "\n",
        "        print(\"saving data\")\n",
        "        f= h5py.File(output_file, 'w')\n",
        "        f.create_dataset(\"input_ids\", data=features[\"input_ids\"], dtype='i4', compression='gzip')\n",
        "        f.create_dataset(\"input_mask\", data=features[\"input_mask\"], dtype='i1', compression='gzip')\n",
        "        f.create_dataset(\"segment_ids\", data=features[\"segment_ids\"], dtype='i1', compression='gzip')\n",
        "        f.create_dataset(\"masked_lm_positions\", data=features[\"masked_lm_positions\"], dtype='i4', compression='gzip')\n",
        "        f.create_dataset(\"masked_lm_ids\", data=features[\"masked_lm_ids\"], dtype='i4', compression='gzip')\n",
        "        f.create_dataset(\"next_sentence_labels\", data=features[\"next_sentence_labels\"], dtype='i1', compression='gzip')\n",
        "        f.flush()\n",
        "        f.close()\n",
        "        print(\"=\"*30)\n",
        "\n",
        "    @staticmethod\n",
        "    def make_vocab_txt(vocab_path, vocab_txt_save_path):\n",
        "        # 생성된 vocab 파일 전처리\n",
        "        f = open(vocab_txt_save_path, 'w', encoding='utf-8')\n",
        "        #\n",
        "        with open(vocab_path) as json_file:\n",
        "            json_data = json.load(json_file)\n",
        "            for item in json_data[\"model\"][\"vocab\"].keys():\n",
        "                f.write(item+'\\n')\n",
        "            f.close()\n",
        "        print(\"Save vocab txt file {}\".format(vocab_txt_save_path))"
      ]
    },
    {
      "cell_type": "markdown",
      "metadata": {
        "id": "SGCphyh24WSu"
      },
      "source": [
        "#### Test"
      ]
    },
    {
      "cell_type": "code",
      "execution_count": null,
      "metadata": {
        "id": "zkut8RSU4ZNK",
        "colab": {
          "base_uri": "https://localhost:8080/"
        },
        "outputId": "f59f96ca-944e-46e5-f0af-8da10d47dda3"
      },
      "outputs": [
        {
          "output_type": "stream",
          "name": "stdout",
          "text": [
            "==============================\n",
            "[Input Files] Getting input file paths...\n",
            "==============================\n",
            "==============================\n",
            "[SubTokenizer] Training BERT-Tokenizer with WordPieceSubTokenizer\n",
            "Save Trained Tokenizer... ./dataset/ch-6000-wpm-32000-pretty\n",
            "==============================\n",
            "==============================\n",
            "[Preprocessing vocab.txt] Preprocessing...\n",
            "Save vocab txt file ./dataset/vocab.txt\n",
            "==============================\n",
            "==============================\n",
            "[Creating Training Instances]\n",
            "Total Instances:  20881\n",
            "==============================\n",
            "==============================\n",
            "[Saving Training Instances]\n"
          ]
        },
        {
          "output_type": "stream",
          "name": "stderr",
          "text": [
            "100%|██████████| 20881/20881 [00:00<00:00, 41498.27it/s]\n"
          ]
        },
        {
          "output_type": "stream",
          "name": "stdout",
          "text": [
            "saving data\n",
            "==============================\n",
            "==============================\n",
            "[Loading Training Instances] ./dataset/train_instances\n",
            "Total Loaded Data: 20881\n",
            "==============================\n"
          ]
        }
      ],
      "source": [
        "dataset_object = bert_dataset(max_seq_length,\n",
        "                              dupe_factor, short_seq_prob, masked_lm_prob,\n",
        "                              max_predictions_per_seq, random_seed,\n",
        "                              input_file, dataset_path, vocab_txt_path,\n",
        "                              limit_alphabet, vocab_size, mode='train',\n",
        "                              new_data=True)"
      ]
    },
    {
      "cell_type": "code",
      "execution_count": null,
      "metadata": {
        "id": "JHgSqvt54cG8",
        "colab": {
          "base_uri": "https://localhost:8080/"
        },
        "outputId": "cc5c6ad2-596b-411f-acef-4e7a3b0b43a0"
      },
      "outputs": [
        {
          "output_type": "stream",
          "name": "stdout",
          "text": [
            "[input_ids]:  [2, 4, 68, 5082, 8707, 7334, 11978, 3301, 4576, 15, 8717, 4, 24352, 17, 3, 1609, 8031, 2362, 4, 4, 12049, 4, 1805, 12119, 14784, 8882, 1733, 1870, 2840, 15, 18554, 13543, 21112, 2702, 11891, 1558, 4, 1562, 10, 2801, 2928, 10, 1113, 1006, 1736, 8379, 1658, 4, 48, 4290, 7744, 12329, 8621, 7991, 9187, 1804, 4, 688, 3512, 20199, 10994, 19911, 17, 4225, 1625, 1897, 2859, 16589, 1579, 2745, 4323, 2786, 2695, 3840, 3897, 1574, 4, 6936, 6, 42, 3959, 12341, 6827, 13527, 42, 13102, 15377, 6, 610, 20215, 3157, 19483, 2712, 17, 4, 4, 4, 4, 2721, 2719, 10351, 3678, 17045, 3409, 1579, 13058, 17, 5701, 4727, 5788, 14283, 15, 1246, 4705, 1689, 3535, 5433, 4, 2979, 24241, 19764, 4, 2848, 2817, 1743, 15041, 5742, 3]\n",
            "15\n",
            "[Decoded]:  [CLS] [MASK] a이스 슈워제네거는 오스트리아 태생의 미국의 배우, 보디빌더 [MASK] 정치인이다. [SEP]를 그만둔 [MASK] [MASK] 호프 [MASK]태터가 컬럼을 물려받았는데, 마틴 가드너에 대한 존경의 [MASK]서 ' 수학 게임 ' 의 애너그램인 [MASK] Metamagical Themas [MASK] 를 자신의 컬럼 제목으로 정하였다. 1993년이래 그의 유희수학에 대해 관심을 같이하는 사람들이 부정기 [MASK] 모여 \" Gathering for Gardner \" 란 콘퍼런스를 열기도 한다. [MASK] [MASK] [MASK] [MASK] 다음과 같은 흥미있는 주제들을 대중에 소개하였다. 65권의 책을 썼으며, 초정상주장의 과학적 [MASK] 위한 위원회의 일원으로 [MASK]하며 사이비과학을 반박 [SEP]\n",
            "[input_ids, len]:  128\n",
            "[input_mask]:  [1, 1, 1, 1, 1, 1, 1, 1, 1, 1, 1, 1, 1, 1, 1, 1, 1, 1, 1, 1, 1, 1, 1, 1, 1, 1, 1, 1, 1, 1, 1, 1, 1, 1, 1, 1, 1, 1, 1, 1, 1, 1, 1, 1, 1, 1, 1, 1, 1, 1, 1, 1, 1, 1, 1, 1, 1, 1, 1, 1, 1, 1, 1, 1, 1, 1, 1, 1, 1, 1, 1, 1, 1, 1, 1, 1, 1, 1, 1, 1, 1, 1, 1, 1, 1, 1, 1, 1, 1, 1, 1, 1, 1, 1, 1, 1, 1, 1, 1, 1, 1, 1, 1, 1, 1, 1, 1, 1, 1, 1, 1, 1, 1, 1, 1, 1, 1, 1, 1, 1, 1, 1, 1, 1, 1, 1, 1, 1]\n",
            "[segment_ids]:  [0, 0, 0, 0, 0, 0, 0, 0, 0, 0, 0, 0, 0, 0, 0, 1, 1, 1, 1, 1, 1, 1, 1, 1, 1, 1, 1, 1, 1, 1, 1, 1, 1, 1, 1, 1, 1, 1, 1, 1, 1, 1, 1, 1, 1, 1, 1, 1, 1, 1, 1, 1, 1, 1, 1, 1, 1, 1, 1, 1, 1, 1, 1, 1, 1, 1, 1, 1, 1, 1, 1, 1, 1, 1, 1, 1, 1, 1, 1, 1, 1, 1, 1, 1, 1, 1, 1, 1, 1, 1, 1, 1, 1, 1, 1, 1, 1, 1, 1, 1, 1, 1, 1, 1, 1, 1, 1, 1, 1, 1, 1, 1, 1, 1, 1, 1, 1, 1, 1, 1, 1, 1, 1, 1, 1, 1, 1, 1]\n",
            "[masked_lm_positions]:  [1, 2, 11, 18, 19, 21, 36, 47, 56, 64, 76, 79, 94, 95, 96, 97, 109, 117, 121, 0]\n",
            "[masked_lm_positions.shape]:  [64, 20]\n",
            "[masked_lm_ids]:  [19324, 19351, 15, 1512, 13376, 1698, 13874, 6, 6, 1625, 2710, 42, 2803, 3512, 14784, 5365, 5788, 4538, 2989, 0]\n",
            "[next_sentence_labels]:  1\n"
          ]
        }
      ],
      "source": [
        "train_dataloader = DataLoader(dataset_object, batch_size=64, shuffle=True)\n",
        "\n",
        "for batch_id, data in enumerate(train_dataloader):\n",
        "    print(\"[input_ids]: \", list(data[\"input_ids\"][0].numpy()))\n",
        "    # 코드 정리하기#\n",
        "    a = list(data[\"input_ids\"][0].numpy())\n",
        "    masked = []\n",
        "    for i in a:\n",
        "        if i == 4: masked.append(i)\n",
        "    print(len(masked))\n",
        "    ####################\n",
        "    print(\"[Decoded]: \", dataset_object.tokenizer.decode(list(data[\"input_ids\"][0].numpy()), skip_special_tokens=False))\n",
        "    print(\"[input_ids, len]: \", len(data[\"input_ids\"][0]))\n",
        "    print(\"[input_mask]: \", list(data[\"input_mask\"][0].numpy()))\n",
        "    print(\"[segment_ids]: \", list(data[\"segment_ids\"][0].numpy()))\n",
        "    print(\"[masked_lm_positions]: \", list(data[\"masked_lm_positions\"][0].numpy()))                  #(bs, 20) : 20 ≈ [len(input_ids) * 0.15 = 19.2] (Mask token은 훈련 토큰의 15%)\n",
        "    print(\"[masked_lm_positions.shape]: \", list(data[\"masked_lm_positions\"].numpy().shape))\n",
        "    print(\"[masked_lm_ids]: \", list(data[\"masked_lm_ids\"][0].numpy()))\n",
        "    print(\"[next_sentence_labels]: \", data[\"next_sentence_labels\"][0].numpy())\n",
        "    break"
      ]
    },
    {
      "cell_type": "markdown",
      "metadata": {
        "id": "ZVAbxh9ZwP7t"
      },
      "source": [
        "###4. PretrainingBERT Class"
      ]
    },
    {
      "cell_type": "markdown",
      "metadata": {
        "id": "NPjhQF6EwZSx"
      },
      "source": [
        "####4-1. Implementation of BERT"
      ]
    },
    {
      "cell_type": "markdown",
      "metadata": {
        "id": "EJ4LQ5mDwh2K"
      },
      "source": [
        "\n",
        "\n",
        "*   BERT는 Transformer (\"Attention is All You Need\") 의 Encoder를 이용하여 layer 를 쌓음\n",
        "\n",
        "*   따라서, Transforemer의 구조와 연산 코드부터 작성.\n",
        "\n",
        "\n"
      ]
    },
    {
      "cell_type": "markdown",
      "metadata": {
        "id": "RGYTMNyFwx7N"
      },
      "source": [
        "##### 4-1-1. Embedding\n"
      ]
    },
    {
      "cell_type": "markdown",
      "metadata": {
        "id": "Vxd4CzGWSD7P"
      },
      "source": [
        "nn.Embedding( )\n"
      ]
    },
    {
      "cell_type": "markdown",
      "metadata": {
        "id": "YEoW--M-Qbir"
      },
      "source": [
        "* **nn.Embedding(num_embeddings, embedding_dim)**    : **init**   \n",
        " : == embedding layer 형성  \n",
        " : lookup Table 형성 = [num_embeddings, embedding_dim] matrix 형성              \n",
        "\n",
        "* **Embedding(Input)**      : **forward**  \n",
        " : Input은 정수 인덱스 형태의 단어집합  \n",
        " : output은 각 단어에 대한 임베딩 벡터 = lookup table에서 각 단어에 해당하는 한 행  \n",
        " : lookup table의 값들은 훈련과정에서 update (like 가중치 학습)        \n",
        "![image.png](data:image/png;base64,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)\n",
        "* *forward 연산 시*   \n",
        " : 임베딩 파라미터를 선언한 후 forward 메소드를 수행하면 [입력벡터, 임베딩 차원] 크기를 가진 텐서가 출력됨.\n",
        "\n",
        " : forward 입력텐서 = 임베딩 벡터를 추출할 범주의 인덱스에 해당하므로 무조건 정수타입(torch.LongTensor)이 들어가야함    \n",
        " : ex) nn.Embedding(10,3)  선언 후 forward메소드에 (2,4) 크기의 텐서가 입력으로 들어가면 (2,4,3) = [입력벡터(2,4), 임베딩 차원(3)]크기의 텐서가 출력됨."
      ]
    },
    {
      "cell_type": "markdown",
      "metadata": {
        "id": "w2uJWt_ZSLbn"
      },
      "source": [
        "* Similar to nn.Linear()   \n",
        "   : init에서 hidden_layer = linear(input_dim, hidden_dim)  \n",
        "   : forward 에서 output = hidden_layer(input)\n"
      ]
    },
    {
      "cell_type": "markdown",
      "metadata": {
        "id": "xeIPOxojT13e"
      },
      "source": [
        "Description"
      ]
    },
    {
      "cell_type": "markdown",
      "metadata": {
        "id": "H-fbn5yrxHF5"
      },
      "source": [
        "\n",
        "\n",
        "![image.png](data:image/png;base64,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)\n",
        "*   Embedding Vector = Dropout(Nomralize(Word Embedding + Position Embedding + Token Type Embedding))\n",
        "  \n",
        "  * 아래 내용에서 size의 8은 batch size\n",
        "  * 아래 Embedding을 위해서 torch.nn.Embedding을 사용\n",
        "     \n",
        "     * num_embeddings : embedding vector의 총 갯수\n",
        "     * embedding_dim : 각 embedding vector의 dimension\n",
        "     * 예를 들어 num_embeddings = 32000, embedding_dim = 768 이라하자\n",
        "\n",
        "        * 해당 경우, nn.Embedding에는 32000 수 만큼의 embedding vectors들이 있고 각 vector들은 768의 크기를 가짐.\n",
        "        * 하나의 스칼라 값이 들어오면 해당 스칼라 값에 대한 32000개의 vectors들 중 하나를 선택하여 출력.\n",
        "\n",
        "  * **Word Embdding**(Layer) : Word Index Scalar -> Embedding Vector\n",
        "     * 아래 예제는 vocab_size = 32000라고 생각하면 됨.\n",
        "     * 토큰의 Index (BERT의 경우 0이상 32199이하의 정수)가 768의 길이인 Vector로 바뀌는 Embedding.\n",
        "          * 즉, 스칼라를 벡터로 변환\n",
        "          * torch.Size([8,128]) -> torch.Size([8, 128, 768])\n",
        "    * 즉, 스칼라가 One-hot Vector로 바뀌고, 길이가 768인 Vector로 전환\n",
        "    * 이 경우,\n",
        "        * num_embeddings = vocab_size(32000), embedding_dim = 768\n",
        "\n",
        "  *  **Position Embedding**(Layer) : Position Index Scalar -> Embedding Vector\n",
        "     * BERT의 Input에는 해당 토큰의 위치가 어디인지에 대한 정보가 없음.\n",
        "     * 문장을 해석할 때 단어 위치는 굉장히 중요한 지표\n",
        "     * 위 예시에서 Position Index Scalar는 0~127사이의 스칼라 값을 가질 것.\n",
        "         * torch.size([8,128]) -> torch.Size([8, 128, 768])\n",
        "     * 이 경우,\n",
        "         * num_embdding = seq_len(128), embedding_dim = 768이 됨.\n",
        "  * **Token Type Embedding**: Token Type Scalar -> Embedding Vector\n",
        "     * 여기서 토큰 타입이랑 해당 토큰이 seq_A에 속하는 지, seq_B에 속하는 지에 대한 정보\n",
        "     * A에 속하면 0, B는 1의 값을 가짐\n",
        "     * 따라서 이 또한 스칼라에서 벡터로 Embedding 필요\n",
        "       * torch.Size([8,128]) -> torch.Size([8,128,768])\n",
        "     * 이 경우,\n",
        "       * num_embeddings는 token_type_ids(2)이 되고 embddings_dim 은 768이 됨.\n",
        "  \n",
        "   \n",
        "\n",
        "\n",
        "\n",
        "* 여기서 중요한 것은 **세 Embedding 모두 Layer**라는 것\n",
        "  * 즉, BERT Model이 학습할 때 Embedding 역시 학습 대상이라는 것\n",
        "  * Pytorch에서는 torch.nn.Embedding 모듈을 사용\n",
        "      * torch.nn.Embedding의 모델 구조는 FFNN(Fully Conneted)\n"
      ]
    },
    {
      "cell_type": "markdown",
      "metadata": {
        "id": "PeDgVO1w7pPa"
      },
      "source": [
        "code"
      ]
    },
    {
      "cell_type": "code",
      "execution_count": null,
      "metadata": {
        "id": "ug5bbtuj7o9u"
      },
      "outputs": [],
      "source": [
        "class BertEmbeddings(nn.Module):\n",
        "    \"\"\"\n",
        "        Construct the embeddings from word, position and token_type embeddings\n",
        "    \"\"\"\n",
        "    def __init__(self, vocab_size, embed_size, max_seq_len, type_vocab_size=2, hidden_dropout_prob=0.1):\n",
        "        super(BertEmbeddings, self).__init__()                                                                                              # == [super().__init__()]\n",
        "\n",
        "        # word_embedding = word Index Scalar -> One-hot Vector, len(Vector)= embedding_dim =768\n",
        "        # 각 단어별 index 가지므로 num_embedding = vocab_size = 32000\n",
        "        self.word_embeddings = nn.Embedding(num_embeddings=vocab_size,\n",
        "                                                                         embedding_dim=embed_size)      # (32000,768)\n",
        "        # position_embedding = Position Index -> embedding Vector\n",
        "        # 각 단어별 위치 정보를 포함해야하므로 num_embedding = max_seq_len =768\n",
        "        self.position_embeddings = nn.Embedding(num_embeddings=max_seq_len,\n",
        "                                                                              embedding_dim=embed_size)    # (128, 768)\n",
        "        # token_type_embedding = Token type Scalar -> embedding Vector\n",
        "        # 각 단어별 소속된 문장 (A=0, B=1)정보를 포함해야하므로 num_embeddings = type_vocab_size = 2\n",
        "        self.token_type_embeddings = nn.Embedding(num_embeddings=type_vocab_size,\n",
        "                                                                                embedding_dim=embed_size)  # (2, 768)\n",
        "        self.LayerNorm = nn.LayerNorm(embed_size, eps=1e-12)\n",
        "        self.dropout = nn.Dropout(hidden_dropout_prob)  # 0.1\n",
        "\n",
        "    def forward(self, input_ids, token_type_ids):\n",
        "        seq_length = input_ids.size(1)           # 128\n",
        "\n",
        "        # 세 Emebedding은 모두 Layer\n",
        "        # embeddings의 각 행들은 단어 하나를 의미, 행에 존재하는 값들은 각 특성에 대한 weight값 가짐\n",
        "\n",
        "        # ---- position embedding ----\n",
        "        #\n",
        "        # position embedding은 각 단어별 위치값을 나타내는 embedding vector\n",
        "        # 해당 예제는 max_seq_length = 128이므로 0-127의 index값을 가짐\n",
        "        # 한 단어는 하나의 행에 해당, 따라서 각 행별 [0,1,2 ....127]의 값을 가진 tensor를 생성해야함\n",
        "        #\n",
        "        position_ids = torch.arange(seq_length, dtype=torch.long, device=input_ids.device)       # torch.size([128]), 값이 0-127로 채워짐 / torch.arnage : 1차원 텐서 반환\n",
        "        position_ids = position_ids.unsqueeze(0).expand_as(input_ids)                                       # torch.Size([64, 128]), 각 행이 [0,1,2, …,127]로 구성되며 행의 수는 64\n",
        "        #\n",
        "        position_embeddings = self.position_embeddings(position_ids)                                       # seq_len = 128이므로 각 행별 0-127에 해당하는 index값을 가진 tensor를 position embedding의 input으로 넣어줌\n",
        "\n",
        "        # ---- words embedding -----\n",
        "        # 입력벡터 input_ids.size() = [64,128]\n",
        "        # self.word_embeddings는 768의 임베딩 차원을 가지므로\n",
        "        # word_embeddings.shape = [64,128,768] = [입력벡터, 임베딩 차원]\n",
        "        word_embeddings = self.word_embeddings(input_ids)\n",
        "\n",
        "        # ---- token embedding -----\n",
        "        # 입력벡터 tokey_type_ids.size() = [64,128]\n",
        "        # self.token_type_embeddings의 embedding_dim = 768\n",
        "        # token_type_embeddings.shape = [64,128,768]\n",
        "        token_type_embeddings = self.token_type_embeddings(token_type_ids)\n",
        "\n",
        "        embeddings = word_embeddings + position_embeddings + token_type_embeddings\n",
        "        embeddings = self.LayerNorm(embeddings)\n",
        "        embeddings = self.dropout(embeddings)\n",
        "\n",
        "        return embeddings"
      ]
    },
    {
      "cell_type": "markdown",
      "metadata": {
        "id": "9gl29yzjHjmD"
      },
      "source": [
        "Test"
      ]
    },
    {
      "cell_type": "markdown",
      "metadata": {
        "id": "d24dkcaVN7Gj"
      },
      "source": [
        "Q) Transformer는 input부터 output까지 embedding_dim(512) 동일해야 했음\n",
        "\n",
        "\n",
        "     해당 코드의 embed_size =768도 동일개념?    \n",
        "* BERT base : 각 Encoder Layer 당 1개의 hidden layer with 768nodes"
      ]
    },
    {
      "cell_type": "code",
      "execution_count": null,
      "metadata": {
        "id": "azIX4v5AOGWY"
      },
      "outputs": [],
      "source": [
        "#BertEmbeddings init 실행\n",
        "embedding = BertEmbeddings(vocab_size=vocab_size, embed_size=768, max_seq_len=max_seq_length)"
      ]
    },
    {
      "cell_type": "code",
      "execution_count": null,
      "metadata": {
        "collapsed": true,
        "id": "lyRaIfKtOTcE",
        "colab": {
          "base_uri": "https://localhost:8080/"
        },
        "outputId": "6acb6663-afa6-4bd2-ad43-6989fd177fc6"
      },
      "outputs": [
        {
          "output_type": "stream",
          "name": "stdout",
          "text": [
            "input_ids      :  tensor([[    2, 22378, 11982,  ...,  2698,    17,     3],\n",
            "        [    2,  4061,  1455,  ...,  1367,  3226,     3],\n",
            "        [    2,  2789, 22168,  ...,  2684,  9823,     3],\n",
            "        ...,\n",
            "        [    2,  3301, 18337,  ...,  7261,    17,     3],\n",
            "        [    2,  3100, 22944,  ...,  4456,  7519,     3],\n",
            "        [    2, 26376, 24092,  ...,   958,  1932,     3]])\n",
            "segment_ids: tensor([[0, 0, 0,  ..., 1, 1, 1],\n",
            "        [0, 0, 0,  ..., 1, 1, 1],\n",
            "        [0, 0, 0,  ..., 1, 1, 1],\n",
            "        ...,\n",
            "        [0, 0, 0,  ..., 1, 1, 1],\n",
            "        [0, 0, 0,  ..., 1, 1, 1],\n",
            "        [0, 0, 0,  ..., 1, 1, 1]])\n",
            "Shape of embedded vector:  [64, 128, 768]\n",
            "tensor([[[-2.3386e+00, -2.0213e+00,  1.0695e-01,  ...,  0.0000e+00,\n",
            "           3.5677e-01,  5.3956e-01],\n",
            "         [-5.3931e-01, -1.2374e+00,  1.1976e+00,  ..., -0.0000e+00,\n",
            "          -1.0861e+00,  9.7629e-02],\n",
            "         [-1.8926e+00, -0.0000e+00, -1.6114e+00,  ...,  1.3888e+00,\n",
            "           6.3613e-01, -0.0000e+00],\n",
            "         ...,\n",
            "         [-7.6185e-01, -2.0608e-02, -1.0515e+00,  ...,  5.8058e-01,\n",
            "           7.7900e-01, -7.8816e-01],\n",
            "         [-0.0000e+00,  3.4278e-01,  1.1028e-01,  ...,  0.0000e+00,\n",
            "           1.9318e-01, -6.0372e-02],\n",
            "         [-2.9266e-01,  3.3585e-01, -1.5442e+00,  ..., -7.7250e-01,\n",
            "          -0.0000e+00,  1.4052e+00]],\n",
            "\n",
            "        [[-2.3386e+00, -2.0213e+00,  1.0695e-01,  ...,  1.4625e+00,\n",
            "           3.5677e-01,  5.3956e-01],\n",
            "         [-8.2953e-01, -1.3691e+00, -2.9180e-02,  ...,  6.4753e-01,\n",
            "          -3.9187e-01, -9.1341e-01],\n",
            "         [-8.9625e-01, -1.1343e+00, -7.1613e-01,  ...,  1.3122e+00,\n",
            "          -6.4412e-02, -4.7372e-01],\n",
            "         ...,\n",
            "         [-3.4266e-01, -2.1717e-01, -4.6551e-01,  ...,  7.1679e-01,\n",
            "           1.7442e+00,  1.8717e-01],\n",
            "         [-1.4983e+00, -2.1422e-04,  3.4648e-01,  ...,  1.1103e+00,\n",
            "          -7.0715e-03,  1.8750e+00],\n",
            "         [-2.9266e-01,  3.3585e-01, -1.5442e+00,  ..., -7.7250e-01,\n",
            "          -1.1355e+00,  1.4052e+00]],\n",
            "\n",
            "        [[-2.3386e+00, -2.0213e+00,  1.0695e-01,  ...,  1.4625e+00,\n",
            "           3.5677e-01,  5.3956e-01],\n",
            "         [-8.2295e-01, -4.7039e-02, -0.0000e+00,  ...,  4.7812e-01,\n",
            "          -1.1927e+00, -7.9015e-01],\n",
            "         [-9.7891e-01, -2.1975e+00, -1.2082e+00,  ...,  5.1455e-01,\n",
            "           2.9798e-02, -2.6662e-01],\n",
            "         ...,\n",
            "         [-1.1303e+00, -3.7318e-01,  2.8021e-01,  ...,  0.0000e+00,\n",
            "           1.7734e+00,  2.0980e-01],\n",
            "         [-2.2722e+00,  0.0000e+00,  1.6420e-02,  ...,  2.9531e-01,\n",
            "           1.3893e+00,  1.0254e-01],\n",
            "         [-2.9266e-01,  3.3585e-01, -0.0000e+00,  ..., -7.7250e-01,\n",
            "          -1.1355e+00,  1.4052e+00]],\n",
            "\n",
            "        ...,\n",
            "\n",
            "        [[-0.0000e+00, -2.0213e+00,  1.0695e-01,  ...,  1.4625e+00,\n",
            "           3.5677e-01,  5.3956e-01],\n",
            "         [-5.2950e-01, -1.7132e+00, -7.7004e-02,  ...,  2.9702e-01,\n",
            "          -1.0027e+00, -6.6437e-01],\n",
            "         [-8.7641e-01, -2.0148e+00, -6.4906e-01,  ...,  1.0495e+00,\n",
            "          -1.2333e+00, -2.3846e+00],\n",
            "         ...,\n",
            "         [-7.8704e-01,  1.3567e-01,  4.0626e-01,  ..., -1.1170e-01,\n",
            "           1.3405e+00, -2.7053e-01],\n",
            "         [-1.6711e+00,  3.4278e-01,  1.1028e-01,  ...,  0.0000e+00,\n",
            "           1.9318e-01, -6.0372e-02],\n",
            "         [-2.9266e-01,  3.3585e-01, -1.5442e+00,  ..., -7.7250e-01,\n",
            "          -1.1355e+00,  1.4052e+00]],\n",
            "\n",
            "        [[-2.3386e+00, -2.0213e+00,  1.0695e-01,  ...,  1.4625e+00,\n",
            "           0.0000e+00,  5.3956e-01],\n",
            "         [-8.2686e-01, -1.2346e+00,  0.0000e+00,  ...,  1.7352e+00,\n",
            "           3.3946e-01,  1.0460e-01],\n",
            "         [-1.5971e+00, -1.1775e+00, -0.0000e+00,  ...,  1.1201e+00,\n",
            "          -0.0000e+00, -8.9667e-01],\n",
            "         ...,\n",
            "         [-6.6577e-01,  6.8667e-01,  5.1951e-01,  ...,  5.4489e-02,\n",
            "           1.4609e+00,  7.0348e-01],\n",
            "         [-9.0664e-01,  1.3170e+00, -2.6920e-01,  ...,  1.0300e+00,\n",
            "          -0.0000e+00,  4.4561e-01],\n",
            "         [-2.9266e-01,  3.3585e-01, -1.5442e+00,  ..., -7.7250e-01,\n",
            "          -0.0000e+00,  1.4052e+00]],\n",
            "\n",
            "        [[-2.3386e+00, -2.0213e+00,  1.0695e-01,  ...,  1.4625e+00,\n",
            "           3.5677e-01,  5.3956e-01],\n",
            "         [-7.8644e-01, -1.3933e+00,  7.1359e-02,  ..., -1.5775e-01,\n",
            "          -0.0000e+00,  1.1000e+00],\n",
            "         [-1.9862e+00, -1.3653e+00, -3.8557e-01,  ...,  6.5585e-01,\n",
            "           2.3650e-01,  6.6938e-02],\n",
            "         ...,\n",
            "         [-1.6061e+00,  4.6914e-01,  5.6324e-01,  ...,  3.7661e-01,\n",
            "           2.4984e+00, -6.4187e-03],\n",
            "         [-2.4561e+00,  1.4880e+00, -5.4307e-02,  ...,  4.5689e-01,\n",
            "           1.0592e+00,  4.1408e-01],\n",
            "         [-2.9266e-01,  3.3585e-01, -1.5442e+00,  ..., -7.7250e-01,\n",
            "          -1.1355e+00,  1.4052e+00]]], grad_fn=<MulBackward0>)\n"
          ]
        }
      ],
      "source": [
        "for batch_id, data in enumerate(train_dataloader) :                                              # type(data) = OrderedDict : 데이터의 순서가 존재하는 dict 자료형\n",
        "    # Scalar값 Tensor형태로 각 특성(word_index, segment_ids)값 출력\n",
        "    print(\"input_ids      : \", data[\"input_ids\"].type(torch.LongTensor))                      # input_ids = word Index / input_ids.shape = [64,128]\n",
        "    print(\"segment_ids:\", data[\"segment_ids\"].type(torch.LongTensor))                 # segment_ids = 토큰이 어떤 문장에 속해 있는 지(Seq_A, Seq_B) / shape = [64, 128]\n",
        "    #\n",
        "    # Transform Scalar into embedding Vector\n",
        "    embedded_vector = embedding(data[\"input_ids\"].type(torch.LongTensor),\n",
        "                                data[\"segment_ids\"].type(torch.LongTensor))\n",
        "    #\n",
        "    print(\"Shape of embedded vector: \", list(embedded_vector.shape))                 # [64,128,768] = [train_dataloader_batchsize, max_seq_len, embed_dim]\n",
        "    print(embedded_vector)\n",
        "    break"
      ]
    },
    {
      "cell_type": "code",
      "execution_count": null,
      "metadata": {
        "id": "FVNjOZvoo9n_",
        "colab": {
          "base_uri": "https://localhost:8080/"
        },
        "outputId": "62ac6a5f-59d4-46a4-e1f5-3f6abdc29a9f"
      },
      "outputs": [
        {
          "output_type": "stream",
          "name": "stdout",
          "text": [
            "torch.Size([32000, 768])\n",
            "768\n",
            "32000\n"
          ]
        }
      ],
      "source": [
        "print(embedding.word_embeddings.weight.shape)\n",
        "print(embedding.word_embeddings.weight.size(1))\n",
        "print(embedding.word_embeddings.weight.size(0))"
      ]
    },
    {
      "cell_type": "markdown",
      "metadata": {
        "id": "OSe-3PEZRn_4"
      },
      "source": [
        "#####4-1-2. Multi-Head Attention"
      ]
    },
    {
      "cell_type": "code",
      "execution_count": null,
      "metadata": {
        "id": "_9Bt1MjGSi4m"
      },
      "outputs": [],
      "source": [
        "class MultiHeadAttention(nn.Module):\n",
        "    def __init__(self, num_head, d_model, dropout=0.1):\n",
        "        super(MultiHeadAttention,self).__init__()\n",
        "        assert d_model % num_head == 0 ,f (\"d_model % num_head is not zero.\")\n",
        "\n",
        "        self.num_head = num_head        # BERT base : 12개의 multi-head attention\n",
        "        self.d_model = d_model\n",
        "        self.dim_k = d_model // num_head\n",
        "        self.scale = math.sqrt(self.dim_k)\n",
        "\n",
        "\n",
        "        self.linear_layers = nn.ModuleList([nn.Linear(d_model, d_model) for _ in range(3)])          # to make Q,K,V matrix\n",
        "        self.output_linear = nn.Linear(d_model, d_model)\n",
        "        self.dropout = nn.Dropout(p=dropout)\n",
        "\n",
        "    def forward(self, x, mask=None):\n",
        "        # shape of x : (bs, seq_len, d_model)\n",
        "        batch_size = x.size(0)\n",
        "\n",
        "        # 1) Generate query, key, value for each token (each word).\n",
        "\n",
        "        query = self.linear_layers[0](x)\n",
        "        key = self.linear_layers[1](x)\n",
        "        value = self.linear_layers[2](x)\n",
        "        # -- shape of query, key, value : (bs,  seq_len,  d_model)\n",
        "\n",
        "        query = query.view(batch_size, -1, self.num_head, self.dim_k).transpose(1, 2)\n",
        "        key = key.view(batch_size, -1, self.num_head, self.dim_k).transpose(1, 2)\n",
        "        value = value.view(batch_size, -1, self.num_head, self.dim_k).transpose(1, 2)\n",
        "        # -- shape of query, key, value : (bs, num_head, seq_len, dim_K)\n",
        "        # | --> d_model = num_head * dim_k\n",
        "        # | --> (bs, seq_len, num_head, dim_k).transpose(1,2) = (bs, num_head, seq_len, dim_k)\n",
        "\n",
        "        # 2) Conduct Attention\n",
        "        QK_T = torch.matmul(query, key.transpose(-2, -1)) / self.scale\n",
        "        # -- shape of QK_T : (bs, num_head, seq_len, seq_len_\n",
        "        # |-> [bs, num_head, seq_len, dim_k] * [bs, num_head, dim_k, seq_len]\n",
        "        # |-> = [bs, num_head, seq_len, seq_len]\n",
        "\n",
        "        if mask is not None:\n",
        "            # Shape of mask: (bs, 1, seq_len, seq_len)\n",
        "            QK_T = QK_T.masked_fill(mask == 0, -1e9) # 텐서 내 0인 값을 -1e9의 값으로 치환\n",
        "\n",
        "        score = F.softmax(QK_T, dim=-1)\n",
        "        score = self.dropout(score)\n",
        "        score = torch.matmul(score, value)\n",
        "        # -- Shape of score: (bs, num_head, seq_len, dim_k)\n",
        "        # |-> score. shape = [bs, num_head, seq_len, seq_len]\n",
        "        # |-> value.shape = [bs, num_head, seq_len, dim_k]\n",
        "\n",
        "        # 3) Concatenate all vectors of multiple heads\n",
        "        score = score.transpose(1, 2).contiguous().view(batch_size, -1, self.num_head * self.dim_k)\n",
        "        # |-> score.transpose(1,2) = [bs,  seq_len, num_head, seq_len]\n",
        "        # -- Shape of score : [bs, seq_len, d_model]\n",
        "        out = self.output_linear(score)\n",
        "        # -- Shape of out: (bs, seq_len, d_model)\n",
        "\n",
        "        return out"
      ]
    },
    {
      "cell_type": "markdown",
      "metadata": {
        "id": "OFs_egVaPZTl"
      },
      "source": [
        "#####4-1-3. Position-wise Feed Forward\n"
      ]
    },
    {
      "cell_type": "code",
      "execution_count": null,
      "metadata": {
        "id": "WDGybz-yPX0K"
      },
      "outputs": [],
      "source": [
        "class PositionwiseFeedForward(nn.Module):\n",
        "    def __init__(self, d_model, d_expansion, dropout=0.1):\n",
        "        \"Implementation of FFN\"\n",
        "        super(PositionwiseFeedForward, self).__init__()\n",
        "        self.layer1 = nn.Linear(d_model, d_expansion)\n",
        "        self.layer2 = nn.Linear(d_expansion, d_model)\n",
        "        self.dropout = nn.Dropout(p=dropout)\n",
        "        self.act_f = nn.GELU()          # Gaussian Error Linear Unit : This is a smoother version of the ReLU, show better performance than ReLU\n",
        "\n",
        "    def forward(self, x):\n",
        "        out = self.layer1(x)\n",
        "        out = self.act_f(out)\n",
        "        out = self.dropout(out)\n",
        "        out = self.layer2(out)\n",
        "        return out"
      ]
    },
    {
      "cell_type": "markdown",
      "metadata": {
        "id": "pEgbSpiTRDHS"
      },
      "source": [
        "#####4-1-4.Transformer Block"
      ]
    },
    {
      "cell_type": "code",
      "execution_count": null,
      "metadata": {
        "id": "1CcaGDodRFr_"
      },
      "outputs": [],
      "source": [
        "class TransformerBlock(nn.Module):\n",
        "    \"\"\"\n",
        "    Bidirectional Encoder = Transforemr (self-attention)\n",
        "    Transformer = MultiHead_Attention + Feed_Forward\n",
        "    \"\"\"\n",
        "\n",
        "    def __init__(self, hidden, attn_heads, feed_forward_hidden, dropout):\n",
        "        \"\"\"\n",
        "        : param hidden = hidden size of transformer (This is also the dimension fo a embedding vector)\n",
        "        : param attn_heads = the number of multi-head attention\n",
        "        : param feed_forward_hidden = feed_forward)hidden, usually 4*hidden_size\n",
        "        : param dropout = dropout rate\n",
        "        \"\"\"\n",
        "\n",
        "        super(TransformerBlock, self).__init__()\n",
        "        self.attention = MultiHeadAttention(num_head = attn_heads, d_model = hidden)\n",
        "        self.ffn = PositionwiseFeedForward(d_model = hidden, d_expansion = feed_forward_hidden, dropout = dropout)\n",
        "        self.norm1 = nn.LayerNorm(hidden)\n",
        "        self.norm2 = nn.LayerNorm(hidden)\n",
        "        self.dropout = nn.Dropout(p=dropout)\n",
        "\n",
        "    def forward(self, x, mask):\n",
        "        # -- Shape of x : [bs, seq_len, hidden]\n",
        "        # This implement :\n",
        "        # out =  self.attention(x,mask)\n",
        "        # out =  self.norm_1(out)\n",
        "        # out = self.dropout(out)\n",
        "        # out = x + out\n",
        "        x = x + self.dropout(self.norm1(self.attention(x, mask=mask)))\n",
        "        x = x  + self.dropout(self.norm2(self.ffn(x)))\n",
        "        return self.dropout(x)"
      ]
    },
    {
      "cell_type": "markdown",
      "metadata": {
        "id": "dZny1U-iTZ9X"
      },
      "source": [
        "#####4-1-5. BertPooler"
      ]
    },
    {
      "cell_type": "markdown",
      "metadata": {
        "id": "83UjJBUc_VuS"
      },
      "source": [
        "* [CLS] Token의 임베딩을 output으로 return\n",
        "  * 모든 인코딩을 거쳐 나오는 final hidden state가 모든 입력 시퀀스의 정보를 반영할 것이라 가정."
      ]
    },
    {
      "cell_type": "code",
      "execution_count": null,
      "metadata": {
        "id": "OpqL0UP5TdC9"
      },
      "outputs": [],
      "source": [
        "class BertPooler(nn.Module):\n",
        "    def __init__(self, hidden_size):\n",
        "        super(BertPooler, self).__init__()\n",
        "        self.dense = nn.Linear(hidden_size, hidden_size)\n",
        "        self.act = nn.Tanh()\n",
        "\n",
        "        self.reset_parameters()\n",
        "\n",
        "    def forward(self, hidden_states):\n",
        "        # We \"pool\" the model by simply taking the hidden state coressponding\n",
        "        # to the first token.\n",
        "        # -- Shape of hidden_states: (bs, seq_len, hidden_size) = (bs, 128, 768)\n",
        "        # first_token 은 seq_len의 0번째 token = [CLS]\n",
        "        first_token_tensor = hidden_states[:,0]\n",
        "        # -- Shape of first_token_tensor : (bs, hidden_size)\n",
        "        pooled_output = self.act(self.dense(first_token_tensor))\n",
        "        # -- Shape of pooled_output : (bs, hidden_size)\n",
        "        return pooled_output\n",
        "\n",
        "    def reset_parameters(self) -> None:\n",
        "        init.kaiming_uniform_(self.dense.weight, a=math.sqrt(5))\n",
        "        if self.dense.bias is not None:\n",
        "            fan_in, _ = init._calculate_fan_in_and_fan_out(self.dense.weight)\n",
        "            bound = 1 / math.sqrt(fan_in)                               #1/sqrt(뉴런수) : xavier initailize\n",
        "            init.uniform_(self.dense.bias, -bound, bound)"
      ]
    },
    {
      "cell_type": "markdown",
      "metadata": {
        "id": "tO3dX1JlVGDn"
      },
      "source": [
        "##### 4-1-6. BERT"
      ]
    },
    {
      "cell_type": "code",
      "execution_count": null,
      "metadata": {
        "id": "L2JXsMe5Ws-s"
      },
      "outputs": [],
      "source": [
        "class BERT(nn.Module):\n",
        "    \"\"\"\n",
        "    BERT model : Bidirectional Encoder Representations from Transformers\n",
        "      |->BERT base : 12개의 Transformer Encoder layers, 각 encoder layer 당 1개의 hidden layer with 768nodes, 12개의 multi-head attention heads\n",
        "      |->BERT large : 24개의 Transformer Encoder layers, 각 encoder layer 당 1개의 hidden layer with 1024nodes, 16개의 multi-head attention heads\n",
        "    \"\"\"\n",
        "\n",
        "    def __init__(self, vocab_size, hidden=768, n_layers=12, attn_heads=12,\n",
        "                 max_seq_len=128, type_vocab_size=2, dropout=0.1,\n",
        "                 output_all_encoded_layers=False):\n",
        "        \"\"\"\n",
        "             : param vocab_size = vocab size of total words = 32000\n",
        "             : param hidden = BERT model hidden size = 768\n",
        "             : param n_layers = the number of Transformer blocks(layers) = 12\n",
        "             : param attn_heads = the number of multi-head attention heads = 12\n",
        "             : param max_seq_len = the maximum length of input sequence = 128\n",
        "             : param type_vocab_size = the number of token type ids = 2 (Seq_A, Seq_B)\n",
        "             : param dropout = dropout rate = 0.1\n",
        "        \"\"\"\n",
        "        super(BERT,self).__init__()\n",
        "        self.hidden = hidden\n",
        "        self.n_layers = n_layers\n",
        "        self.attn_heads = attn_heads\n",
        "        self.output_all_encoded_layers = output_all_encoded_layers\n",
        "\n",
        "        self.feed_forward_hidden = hidden * 4\n",
        "\n",
        "        self.embedding = BertEmbeddings(vocab_size=vocab_size, embed_size=hidden,\n",
        "                                       max_seq_len=max_seq_len, type_vocab_size=type_vocab_size,\n",
        "                                       hidden_dropout_prob=dropout)\n",
        "\n",
        "        self.transformer_blocks = nn.ModuleList(\n",
        "            [TransformerBlock(hidden, attn_heads, hidden * 4, dropout) for _ in range(n_layers)]\n",
        "        )\n",
        "\n",
        "        self.pooler = BertPooler(hidden)\n",
        "\n",
        "    def forward(self, input_ids, token_type_ids):\n",
        "        # -- Shape of x : (bs, seq_len)\n",
        "        seq_len = input_ids.size(1)\n",
        "        mask = (input_ids > 0).unsqueeze(dim=1)          # (input_Ids>0) = ()input token != [PAD] ,  input_ids가 PAD가 아니면 1, PAD이면 0의 값 채움\n",
        "        # -- Shape of mask : (bs,1, seq_len)\n",
        "        mask = mask.repeat(1, seq_len, 1)\n",
        "        # -- Shape of mask : (bs, seq_len, seq_len)\n",
        "        mask = mask.unsqueeze(dim=1)\n",
        "        # mask is 1.0 for positions we want to attend for calculating softmax in MultiHeadAttention\n",
        "        #       and 0.0 for masked position that will be ignored for the softmax.\n",
        "        # In MultiHeadAttention, there is\n",
        "        #                                       QK_T = QK_T.masked_fill(mask==0, -1e9)\n",
        "        # the mask is used when the upper line is executed.\n",
        "        # 위 코드에서  mask의 값이 0인 곳에는 해당하는 위치의 QK_T 행렬 값은  -100000000로 채워짐.\n",
        "        # 이로써 softmax(QK_T)*V연산에서 -1e9가 채워진 곳은 배제됨.\n",
        "        embedding_output = self.embedding(input_ids, token_type_ids)\n",
        "        # -- Shape of x : (bs, seq_len, embed_size)\n",
        "\n",
        "        for transformer in self.transformer_blocks:\n",
        "            embedding_output = transformer.forward(embedding_output, mask)\n",
        "            # -- Shape of embeddidng_output : (bs, seq_len, embed_size)\n",
        "\n",
        "        pooled_output = self.pooler(embedding_output)\n",
        "        # -- Shape of pooled_output : (bs, embed_size)\n",
        "\n",
        "        return embedding_output, pooled_output"
      ]
    },
    {
      "cell_type": "markdown",
      "metadata": {
        "id": "wwtUpg5ydwkY"
      },
      "source": [
        "#### 4-2. BertPretraining Model"
      ]
    },
    {
      "cell_type": "markdown",
      "metadata": {
        "id": "0GOiKDA2d1fF"
      },
      "source": [
        "4-2-1. Bert Outputs"
      ]
    },
    {
      "cell_type": "markdown",
      "metadata": {
        "id": "XkqWXmHsf3Q9"
      },
      "source": [
        "Q) 1) 이해 x\n",
        "\n",
        "    * 1)의 Result shape --------> class BERTPooler에 의하면 output이 (bs,hidden_size=embed_size=768)인데 그럼 (bs, 768) 아님??\n",
        "    * (8,2)는 (bs, type_vocab_size) 아닌가? -----> BERTPooler에 의한게 아니지 않음?\n",
        "    "
      ]
    },
    {
      "cell_type": "markdown",
      "metadata": {
        "id": "WLZ0eH-Yd5FJ"
      },
      "source": [
        "* BERT 최종 모델은 2가지의 Outputs를 반환\n",
        "\n",
        "  * 1) tanh(마지막 hidden_state의 첫 토큰) -> [-1,1]의 scalar 값\n",
        "    *  Result shape : (8,2)\n",
        "    * 이건 이전의 class BERTPooler에 의함.\n",
        "  * 2) 마지막 hidden_state\n",
        "    * Result shape : (64, 128, 32000)\n",
        "*해석\n",
        " * 1)번으로는 A,B가 연속된 Sequence인지 판단 (NSP : Next Sequence Prediction)\n",
        "   *  Sequence Embedding : Seq_A에 속하면 0, Seq_B에 속하면 1\n",
        "   *  tanh함수를 통한 확률값으로 어떤 문장에 속하는 지 표시     \n",
        "     -> input sequence가 하나의 문장 or 두개의 문장으로 이루어지는지 파악\n",
        "  * cf) [SEP] 토큰 사용해 문장 둘로 나눠 구분 가능\n",
        "  \n",
        " * 2)번으로는 마스킹된 단어를 예측\n",
        "   * 출력 임베딩은 문장의 모든 문맥에 대한 정보를 보유하므로 문맥을 파악하여 예측에 반영할 수 있다 가정."
      ]
    },
    {
      "cell_type": "markdown",
      "metadata": {
        "id": "hz_OAm4C9r-j"
      },
      "source": [
        "아래 코드 참고 링크: [링크](https://github.com/NVIDIA/DeepLearningExamples/blob/master/PyTorch/LanguageModeling/BERT/modeling.py)"
      ]
    },
    {
      "cell_type": "markdown",
      "metadata": {
        "id": "QK7W-8xWNe9P"
      },
      "source": [
        "해당 클래스는 각 Head별 수행되는 연산"
      ]
    },
    {
      "cell_type": "markdown",
      "metadata": {
        "id": "hN2UWFgJ32_O"
      },
      "source": [
        "* maked_lm_positions : [MASK] 토큰의 index 위치\n",
        "   * masked_lm_positions.shape = (bs, 20)\n",
        "* masked_lm_ids : [MASK] 토큰의 실제 label index\n",
        "   * ex. 'all' : 56"
      ]
    },
    {
      "cell_type": "code",
      "execution_count": null,
      "metadata": {
        "id": "NeXQFXZbd02O"
      },
      "outputs": [],
      "source": [
        "class BertPreTrainingHeads(nn.Module):\n",
        "    \"\"\"\n",
        "    bert_model_embedding_weights is set to self.bert.embeddings.word_embeddings.weight\n",
        "    word_embeddings.shape = [bs, seq_len, embed_dim]\n",
        "\n",
        "    즉, BertEmbedding 에서 word_embedding의 가중치 값을 사용\n",
        "    \"\"\"\n",
        "\n",
        "    def __init__(self, hidden_size, bert_model_embedding_weights):\n",
        "        super(BertPreTrainingHeads, self).__init__()\n",
        "        # Transform\n",
        "        self.dense_transform = nn.Linear(hidden_size, hidden_size)\n",
        "        self.act_transform = nn.GELU()\n",
        "        self.layerNorm_transformer = nn.LayerNorm(hidden_size, eps=1e-12)\n",
        "\n",
        "        # The output weights are the same as the input embeddings, but there is\n",
        "        # an output-only bias for each token.\n",
        "        # Note that) bert_model_embedding_weights.size(1) = hidden_size = 768\n",
        "        #                  bert_model_embedding_weights.size(0) = vocab_size = 32000\n",
        "        # As a result,\n",
        "        #       the input shape of self.decoder : (bs, seq_len, hidden_size)\n",
        "        #       the output shape of self.decoder : (bs, seq_len, vocab_size)\n",
        "\n",
        "        #\n",
        "        # Decoder : tokenizer의 decoder\n",
        "        # 즉, 정수 인코딩 된 token을 다시 언어로 표현\n",
        "        self.decoder = nn.Linear(bert_model_embedding_weights.size(1),\n",
        "                                                bert_model_embedding_weights.size(0),\n",
        "                                                bias=False)                        # (768,32000)\n",
        "        self.decoder.weight = bert_model_embedding_weights\n",
        "        self.bias = nn.Parameter(torch.zeros(bert_model_embedding_weights.size(0)))\n",
        "        #\n",
        "        self.seq_relationship = nn.Linear(hidden_size, 2)   #token_type_ids\n",
        "        #\n",
        "        self.apply(self.init_weights)\n",
        "\n",
        "    def forward(self, sequence_output, pooled_output,\n",
        "                       masked_lm_labels, masked_lm_positions):\n",
        "        #\n",
        "        # torch.nonzero : 조건에 부합하는 index 반환 : 0이 아닌 값을 가지는 index반환\n",
        "        # masked_lm_position에 존재하는 0의 의미 :\n",
        "        #                       | -----------> masked_lm_position.shape = [bs, 20]\n",
        "        #                       | -----------> 입력 시퀀스에 사용된 [MASK] 토큰이 20개 보다 작은 경우, 0으로 패딩됨\n",
        "        #                       | -----------> if) 사용된 mask 토큰 16개, masked_lm_position = [1,2,3,4, ..., 0,0,0,0]\n",
        "        # 즉, 실제로 사용된 mask토큰의 index만 추출하기 위해 아래와 같은 코드 적용\n",
        "        #\n",
        "        \"\"\"\n",
        "        Example\n",
        "        -------\n",
        "        masked_lm_positions.shape = [bs, 4]\n",
        "        masked_lm_positions= tensor[    [1, 9, 16, 0],\n",
        "                                                             [5, 6, 0, 0],\n",
        "                                                             [9, 10, 11, 0],\n",
        "                                                             [13, 0, 0, 0] ]\n",
        "        nonzero_index = [   tensor([ [0], [1], [2] ]),\n",
        "                                        tensor([ [0], [1] ]),\n",
        "                                        tensor([ [0], [1], [2] ]),\n",
        "                                        tensor([ [0] ])  ]\n",
        "        len(nonzero_index) = 4, nonzero_index[0] = tensor( [0], [1], [2] )\n",
        "        masked_lm_positions[0][nonzero_index[0]] = masked_lm_positions[0][tensor( [0], [1], [2] ) ] = 1,9,16\n",
        "        nonzero_position = [ tensor([1,9,16]),\n",
        "                                         tensor([5,6]),\n",
        "                                         tensor([9,10,11]),\n",
        "                                          tensor([13]) ]\n",
        "        -------\n",
        "        \"\"\"\n",
        "        nonzero_index = [torch.nonzero(masked_lm_positions[batch_idx]) for batch_idx in range(len(masked_lm_positions))]\n",
        "        nonzero_position = [masked_lm_positions[idx][nonzero_index[idx]] for idx in range(len(nonzero_index))]\n",
        "        #\n",
        "        # sequence_output = class BERT embedding_output\n",
        "        # embeddidng_output.shape : (bs, seq_len, embed_size)\n",
        "        # selected_sequence_output = embedding_output에서 mask토큰의 position에 해당하는  embedding값(=token에 대한 확률값, nn.Embedding에서 softmax포함됨)을 저장\n",
        "        # selected_sequence_output_flat = selected_sequence_output을 flatten\n",
        "        #\n",
        "        selected_sequence_output = [sequence_output[idx][nonzero_position[idx].squeeze(dim=1)] for idx in range(len(nonzero_position))]\n",
        "        selected_sequence_output_flat = torch.cat(selected_sequence_output, dim=0)\n",
        "        #\n",
        "        # Prediction\n",
        "        hidden_states = self.act_transform(self.dense_transform(selected_sequence_output_flat))\n",
        "        hidden_states = self.layerNorm_transformer(hidden_states)\n",
        "        #\n",
        "        prediction_scores = self.decoder(hidden_states) + self.bias\n",
        "        # Shape of prediction_scores: (, vocab_size)\n",
        "        #                                                             |----------> bc. classification\n",
        "\n",
        "        # Sequence Relationship\n",
        "        # Shape of pooled_output: (bs, hidden_size)\n",
        "        #\n",
        "        # pooled_output = [CLS] 토큰의 임베딩 값\n",
        "        # [CLS] 토큰은 입력 시퀀스의 첫 토큰이므로 [CLS]가 존재한다는 건 문장이 복합문장임을 의미\n",
        "        #\n",
        "        seq_relationship_score = self.seq_relationship(pooled_output)\n",
        "        # Shape of seq_relationship_score: (bs, 2)\n",
        "\n",
        "        return prediction_scores, seq_relationship_score\n",
        "\n",
        "\n",
        "    def init_weights(self, module):\n",
        "        \"\"\" Initialize the weights.\n",
        "        \"\"\"\n",
        "        if isinstance(module, (nn.Linear)):\n",
        "            init.kaiming_uniform_(module.weight, a=math.sqrt(5))\n",
        "        elif isinstance(module, nn.LayerNorm):\n",
        "            module.bias.data.zero_()\n",
        "            module.weight.data.fill_(1.0)\n",
        "        if isinstance(module, nn.Linear) and module.bias is not None:\n",
        "            module.bias.data.zero_()\n",
        "            fan_in, _ = init._calculate_fan_in_and_fan_out(module.weight)\n",
        "            bound = 1 / math.sqrt(fan_in)\n",
        "            init.uniform_(module.bias, -bound, bound)"
      ]
    },
    {
      "cell_type": "markdown",
      "metadata": {
        "id": "5HF7Z0ziywJ8"
      },
      "source": [
        "PreTraining 을 위한 최종 class [링크](https://github.com/NVIDIA/DeepLearningExamples/blob/master/PyTorch/LanguageModeling/BERT/modeling.py)"
      ]
    },
    {
      "cell_type": "code",
      "execution_count": null,
      "metadata": {
        "id": "VIvRQKpXmQGF"
      },
      "outputs": [],
      "source": [
        "class BertForPreTraining(nn.Module):\n",
        "    def __init__(self, vocab_size, hidden=768, n_layers=12, attn_heads=12,\n",
        "                        max_seq_len=128, type_vocab_size=2, dropout=0.1,\n",
        "                        output_all_encoded_layers=False):\n",
        "\n",
        "        super(BertForPreTraining, self).__init__()\n",
        "\n",
        "        self.bert = BERT(vocab_size, hidden, n_layers, attn_heads,\n",
        "                                    max_seq_len, type_vocab_size, dropout=0.1,\n",
        "                                    output_all_encoded_layers=False)\n",
        "\n",
        "        self.cls = BertPreTrainingHeads(hidden, self.bert.embedding.word_embeddings.weight)\n",
        "\n",
        "        self.apply(self.init_bert_weights)\n",
        "\n",
        "    def forward(self, input_ids, token_type_ids,\n",
        "                       masked_lm_labels, masked_lm_positions):\n",
        "        sequence_output, pooled_output = self.bert(input_ids, token_type_ids)\n",
        "        prediction_scores, seq_relationship_score = self.cls(sequence_output, pooled_output,\n",
        "                                                                                                masked_lm_labels, masked_lm_positions)\n",
        "        return prediction_scores, seq_relationship_score\n",
        "\n",
        "    def init_bert_weights(self, module):\n",
        "        \"\"\" Initialize the weights.\n",
        "        \"\"\"\n",
        "        if isinstance(module, (nn.Linear, nn.Embedding)):\n",
        "            # Slightly different from the TF version which uses truncated_normal for initialization\n",
        "            # cf https://github.com/pytorch/pytorch/pull/5617\n",
        "            module.weight.data.normal_(mean=0.0, std=0.02)\n",
        "        elif isinstance(module, nn.LayerNorm):\n",
        "            module.bias.data.zero_()\n",
        "            module.weight.data.fill_(1.0)\n",
        "        if isinstance(module, nn.Linear) and module.bias is not None:\n",
        "            module.bias.data.zero_()"
      ]
    },
    {
      "cell_type": "markdown",
      "metadata": {
        "id": "p45fixqnmPxj"
      },
      "source": [
        "4-3. Loss"
      ]
    },
    {
      "cell_type": "code",
      "execution_count": null,
      "metadata": {
        "id": "s0eGIcrBoCQt"
      },
      "outputs": [],
      "source": [
        "class BertPretrainingCriterion(torch.nn.Module):\n",
        "    def __init__(self, vocab_size):\n",
        "        super(BertPretrainingCriterion, self).__init__()\n",
        "        self.loss_fn = torch.nn.CrossEntropyLoss(ignore_index=-1) #\n",
        "        self.vocab_size = vocab_size\n",
        "\n",
        "    def forward(self, prediction_scores, seq_relationship_score,\n",
        "                masked_lm_labels, masked_lm_positions,\n",
        "                next_sentence_labels):\n",
        "        nonzero_index = [torch.nonzero(masked_lm_positions[batch_idx]) for batch_idx in range(len(batch['input_ids']))]\n",
        "        nonzero_position = [masked_lm_positions[idx][nonzero_index[idx]] for idx in range(len(nonzero_index))]\n",
        "        #\n",
        "        selected_masked_lm_ids = [masked_lm_labels[idx][nonzero_index[idx]] for idx in range(len(nonzero_index))]\n",
        "        selected_masked_lm_ids_flat = torch.cat(selected_masked_lm_ids, dim=0)\n",
        "        #\n",
        "        masked_lm_loss = self.loss_fn(prediction_scores,\n",
        "                                      selected_masked_lm_ids_flat.squeeze(dim=1))\n",
        "        #\n",
        "        next_sentence_loss = self.loss_fn(seq_relationship_score.view(-1, 2), next_sentence_labels.view(-1))\n",
        "        total_loss = masked_lm_loss + next_sentence_loss\n",
        "        return total_loss"
      ]
    },
    {
      "cell_type": "markdown",
      "metadata": {
        "id": "7TR3c8i0GGXC"
      },
      "source": [
        "##5. Pre-training"
      ]
    },
    {
      "cell_type": "markdown",
      "metadata": {
        "id": "2pKegLwcGQ-s"
      },
      "source": [
        "#### Scheduler Calss"
      ]
    },
    {
      "cell_type": "code",
      "execution_count": null,
      "metadata": {
        "id": "eDfa1852GTIM"
      },
      "outputs": [],
      "source": [
        "class LRScheduler(_LRScheduler):\n",
        "    def __init__(self, optimizer, last_epoch=-1):\n",
        "        # Check if using mixed precision training\n",
        "        self.mixed_training = False\n",
        "        base_optimizer = optimizer\n",
        "\n",
        "        # Check that optimizer param is valid\n",
        "        if not isinstance(optimizer, Optimizer):\n",
        "            raise TypeError('{} is not an Optimizer'.format(\n",
        "                type(optimizer).__name__))\n",
        "\n",
        "\n",
        "        super(LRScheduler,self).__init__(base_optimizer, last_epoch)\n",
        "\n",
        "    def step(self, epoch=None):\n",
        "        # Set the current training step\n",
        "        # ('epoch' is used to be consistent with _LRScheduler)\n",
        "        if self.mixed_training:\n",
        "            # The assumption is that the step will be constant\n",
        "            state_dict = self.optimizer.state[self.optimizer.param_groups[0]['params'][0]]\n",
        "            if 'step' in state_dict:\n",
        "                self.last_epoch = state_dict['step'] + 1\n",
        "            else:\n",
        "                self.last_epoch = 1\n",
        "        else:\n",
        "            self.last_epoch = epoch if epoch is not None else self.last_epoch + 1\n",
        "\n",
        "        for param_group, lr in zip(self.optimizer.param_groups, self.get_lr()):\n",
        "            param_group['lr'] = lr"
      ]
    },
    {
      "cell_type": "markdown",
      "source": [
        "* Warmup\n",
        "\n",
        "  * 일반적으로 lr warmup은 말그대로 천천히 lr을 올리는 작업을 뜻합니다.\n",
        "  *\n",
        "현재 스텝이 warmup 스텝 대비 어느정도인지 비율을 구하고 그에 맞는 warmup_lr을 구하는 방식으로 lr을 조절해갑니다.\n",
        " * https://eagle705.github.io/Learning-rate-warmup-scheduling/\n",
        "\n",
        "* Warm-up의 필요성\n",
        "\n",
        "   * Warm-up은 학습 초기에 모델의 가중치를 서서히 조정하여 안정적으로 학습을 시작할 수 있도록 돕는 기법입니다. 특히, 학습률(learning rate)을 매우 낮은 값에서 점차적으로 증가시키는 방식으로 진행되며, 이는 학습 초기에 큰 학습률로 인해 발생할 수 있는 가중치의 급격한 변화와 그로 인한 학습의 불안정성을 방지하는 데 도움을 줍니다.\n",
        "\n",
        "   * YOLOv5와 같은 복잡한 모델을 fine-tuning할 때, 모델이 이미 어느 정도 학습된 상태에서 시작하기 때문에, warm-up을 통해 학습률을 점진적으로 증가시키면서 모델이 새로운 데이터에 대해 더욱 안정적으로 적응할 수 있도록 도울 수 있습니다. 이는 특히 새로운 데이터셋의 분포가 원래 데이터셋과 상당히 다를 경우 더욱 중요할 수 있습니다.\n",
        "\n",
        "\n"
      ],
      "metadata": {
        "id": "7VgAC9kNDX1S"
      }
    },
    {
      "cell_type": "code",
      "execution_count": null,
      "metadata": {
        "id": "uLPQ_olYQ-F0"
      },
      "outputs": [],
      "source": [
        "class PolyWarmUpScheduler(LRScheduler):\n",
        "    \"\"\"\n",
        "    Applies a warm up period to the learning rate.\n",
        "    \"\"\"\n",
        "\n",
        "    def __init__(self, optimizer, warmup, total_steps, degree=0.5, last_epoch=-1, base_lr=1., device='cpu'):\n",
        "        self.warmup = torch.tensor(warmup, device=device)\n",
        "        self.total_steps = torch.tensor(total_steps, device = device)\n",
        "        self.degree = torch.tensor(degree, device=device)\n",
        "        device_last_epoch = torch.tensor(last_epoch, device=device)\n",
        "        self.base_lr = torch.tensor(last_epoch, device=device)\n",
        "        self.device = device\n",
        "        super(PolyWarmUpScheduler, self).__init__(optimizer, device_last_epoch)\n",
        "\n",
        "    def step(self, epoch=None):\n",
        "        param_group = self.optimizer.param_groups[0]\n",
        "        if 'step' in param_group:\n",
        "            self.last_epoch  = param_group['step'] + 1\n",
        "        else:\n",
        "            self.last_epoch = torch.tensor(1, device=self.device)\n",
        "\n",
        "        for param_group, lr in zip(self.optimizer.param_groups, self.get_lr()):\n",
        "            param_group['lr'] = lr\n",
        "\n",
        "    def get_lr(self):\n",
        "        progress = self.last_epoch / self.total_steps\n",
        "        # warmup보다 progress가 작은 경우: lr를 base_lr(1)*progress/ warmup으로 설정\n",
        "        #                                           큰          : lr를 base_lr*(1.0 - progress)**0.5 (= base_lr * sqrt(1.0-progress)) 설정\n",
        "        lr_tensor = torch.where(progress < self.warmup, self.base_lr * progress / self.warmup, self.base_lr * ((1.0 - progress) ** self.degree))\n",
        "        return [lr_tensor for _ in range(len(self.optimizer.param_groups))]"
      ]
    },
    {
      "cell_type": "markdown",
      "metadata": {
        "id": "_BxhKuCTJAHg"
      },
      "source": [
        "#### Train Dataloader creating function"
      ]
    },
    {
      "cell_type": "code",
      "execution_count": null,
      "metadata": {
        "id": "2tcYhrP6JLeh"
      },
      "outputs": [],
      "source": [
        "def create_dataloader(max_seq_length, dupe_factor, short_seq_prob, masked_lm_prob,\n",
        "                                    max_predictions_per_seq, random_seed, input_file, dataset_path, vocab_txt_path,\n",
        "                                    limit_alphabet, vocab_size, num_workers, pin_memory, mode='train'):\n",
        "    \"\"\"\n",
        "        : dupe_factor = 한 파일에서 몇 번 데이터를 추출할 것인지(mask token은 확률적으로 선정되기에 각각의 파일 내 다른 데이터들이 생성됨)\n",
        "        : limit_alphabet = 한 토큰 내 첫번째 단어의 수를 제한시킴, 최종적으로 첫번째 단어는 의미있는 단어('un', 'in', 're', 어간)가 되는 방향으로 학습될 것이라 예상됨.\n",
        "    \"\"\"\n",
        "\n",
        "    dataset_object = bert_dataset(max_seq_length,\n",
        "                                   dupe_factor, short_seq_prob, masked_lm_prob,\n",
        "                                  max_predictions_per_seq, random_seed,\n",
        "                                  input_file, dataset_path, vocab_txt_path,\n",
        "                                  limit_alphabet, vocab_size, mode=mode,\n",
        "                                  new_data=True)\n",
        "    dataloader = DataLoader(dataset_object, batch_size=batch_size,\n",
        "                            shuffle=True, num_workers=num_workers, pin_memory=pin_memory)\n",
        "    return dataloader"
      ]
    },
    {
      "cell_type": "markdown",
      "metadata": {
        "id": "EmeoZPtyPybL"
      },
      "source": [
        "####Optimizer and Scheduler creating function"
      ]
    },
    {
      "cell_type": "code",
      "execution_count": null,
      "metadata": {
        "id": "UWjW3-8cPxeh"
      },
      "outputs": [],
      "source": [
        "def create_optimizer_scheduler(model, lr, warmup_proportion, max_steps, device):\n",
        "    param_optimizer = list(model.named_parameters())\n",
        "\n",
        "    # decay를 사용하지 않을 param list\n",
        "    no_decay = ['bias', 'gamma', 'beta', 'LayerNorm']\n",
        "\n",
        "    # no_decay list에 없는 name의 parameter들은 weight_decay를 0.01 / 있는 name의 parameter는 decay를 사용하지 않을 예정이므로 0.0 으로 설정\n",
        "    optimizer_grouped_parameters = [\n",
        "        {'params': [p for n, p in param_optimizer if not any(nd in n for nd in no_decay)], 'weight_decay': 0.01},\n",
        "        {'params': [p for n, p in param_optimizer if any(nd in n for nd in no_decay)], 'weight_decay': 0.0}]\n",
        "\n",
        "    # 아래 correct_bias = False 함으로써 BertAdam 처럼 사용할 수 있음.\n",
        "    optimizer = AdamW(optimizer_grouped_parameters, lr=lr, eps=1e-08, correct_bias=True)\n",
        "\n",
        "    lr_scheduler = PolyWarmUpScheduler(optimizer,\n",
        "                                       warmup=warmup_proportion,\n",
        "                                       total_steps=max_steps, base_lr=lr, device=device)\n",
        "    return optimizer, lr_scheduler"
      ]
    },
    {
      "cell_type": "markdown",
      "source": [
        "####Model creating function"
      ],
      "metadata": {
        "id": "9HTDFv3vm_jG"
      }
    },
    {
      "cell_type": "code",
      "source": [
        "def create_model(vocab_size, hidden_size, n_layers_for_encoder, n_attn_heads,\n",
        "                 max_seq_length, device):\n",
        "    model = BertForPreTraining(\n",
        "        vocab_size,\n",
        "        hidden=hidden_size, n_layers=n_layers_for_encoder, attn_heads=n_attn_heads,\n",
        "        max_seq_len=max_seq_length, type_vocab_size=2, dropout=0.1\n",
        "        ).to(device)\n",
        "    return model"
      ],
      "metadata": {
        "id": "q_whtp2wnFKj"
      },
      "execution_count": null,
      "outputs": []
    },
    {
      "cell_type": "markdown",
      "source": [
        "####Statistics"
      ],
      "metadata": {
        "id": "0zy2IzM-qUWQ"
      }
    },
    {
      "cell_type": "code",
      "source": [
        "def optimizer_statistics(optimizer):\n",
        "    return optimizer.param_groups[0]['step'], optimizer.param_groups[0]['lr']"
      ],
      "metadata": {
        "id": "RezBW5AwqWRT"
      },
      "execution_count": null,
      "outputs": []
    },
    {
      "cell_type": "code",
      "source": [
        "def calc_average_loss(average_loss, curr_loss, global_step):\n",
        "    return ((average_loss * (global_step - 1)) + curr_loss) / float(global_step)"
      ],
      "metadata": {
        "id": "Ny1-SLpvqmVd"
      },
      "execution_count": null,
      "outputs": []
    },
    {
      "cell_type": "markdown",
      "source": [
        "####Preparing training"
      ],
      "metadata": {
        "id": "QP84nGSQq-Jd"
      }
    },
    {
      "cell_type": "code",
      "source": [
        "device = torch.device(\"cuda:{}\".format(device_id)) if torch.cuda.is_available() else torch.device(\"cpu\")"
      ],
      "metadata": {
        "id": "yYrCpbC5rAiB"
      },
      "execution_count": null,
      "outputs": []
    },
    {
      "cell_type": "markdown",
      "source": [
        "####Create Dataset Object"
      ],
      "metadata": {
        "id": "gneJf6J7rM2M"
      }
    },
    {
      "cell_type": "code",
      "source": [
        "train_loader = create_dataloader(max_seq_length, dupe_factor, short_seq_prob, masked_lm_prob,\n",
        "                                                     max_predictions_per_seq, random_seed, input_file, dataset_path, vocab_txt_path,\n",
        "                                                     limit_alphabet, vocab_size, num_workers, pin_memory, mode='train')"
      ],
      "metadata": {
        "colab": {
          "base_uri": "https://localhost:8080/"
        },
        "id": "6IK0T4PmrCCp",
        "outputId": "b3ab1e7b-33db-41b2-935c-831657a3ede0"
      },
      "execution_count": null,
      "outputs": [
        {
          "output_type": "stream",
          "name": "stdout",
          "text": [
            "==============================\n",
            "[Input Files] Getting input file paths...\n",
            "==============================\n",
            "==============================\n",
            "[SubTokenizer] Training BERT-Tokenizer with WordPieceSubTokenizer\n",
            "Save Trained Tokenizer... ./dataset/ch-6000-wpm-32000-pretty\n",
            "==============================\n",
            "==============================\n",
            "[Preprocessing vocab.txt] Preprocessing...\n",
            "Save vocab txt file ./dataset/vocab.txt\n",
            "==============================\n",
            "==============================\n",
            "[Creating Training Instances]\n",
            "Total Instances:  22120\n",
            "==============================\n",
            "==============================\n",
            "[Saving Training Instances]\n"
          ]
        },
        {
          "output_type": "stream",
          "name": "stderr",
          "text": [
            "100%|██████████| 22120/22120 [00:00<00:00, 38021.82it/s]\n"
          ]
        },
        {
          "output_type": "stream",
          "name": "stdout",
          "text": [
            "saving data\n",
            "==============================\n",
            "==============================\n",
            "[Loading Training Instances] ./dataset/train_instances\n",
            "Total Loaded Data: 22120\n",
            "==============================\n"
          ]
        },
        {
          "output_type": "stream",
          "name": "stderr",
          "text": [
            "/usr/local/lib/python3.10/dist-packages/torch/utils/data/dataloader.py:558: UserWarning: This DataLoader will create 3 worker processes in total. Our suggested max number of worker in current system is 2, which is smaller than what this DataLoader is going to create. Please be aware that excessive worker creation might get DataLoader running slow or even freeze, lower the worker number to avoid potential slowness/freeze if necessary.\n",
            "  warnings.warn(_create_warning_msg(\n"
          ]
        }
      ]
    },
    {
      "cell_type": "markdown",
      "source": [
        "#### Create Pretraining Object"
      ],
      "metadata": {
        "id": "BaSq7DKLsUTJ"
      }
    },
    {
      "cell_type": "code",
      "source": [
        "model = create_model(vocab_size, hidden_size, n_layers_for_encoder, n_attn_heads, max_seq_length, device)"
      ],
      "metadata": {
        "id": "eZ4DZyWosYPU"
      },
      "execution_count": null,
      "outputs": []
    },
    {
      "cell_type": "markdown",
      "source": [
        "####Create Optimizer and Scheduler"
      ],
      "metadata": {
        "id": "lV2wwbqW2iln"
      }
    },
    {
      "cell_type": "code",
      "source": [
        "optimizer, lr_scheduler = create_optimizer_scheduler(model, lr, warmup_proportion, max_steps, device)"
      ],
      "metadata": {
        "colab": {
          "base_uri": "https://localhost:8080/"
        },
        "id": "fjTO9X1J8E3F",
        "outputId": "ffbb0794-81b8-4cb6-f39f-cfccb0267416"
      },
      "execution_count": null,
      "outputs": [
        {
          "output_type": "stream",
          "name": "stderr",
          "text": [
            "/usr/local/lib/python3.10/dist-packages/transformers/optimization.py:588: FutureWarning: This implementation of AdamW is deprecated and will be removed in a future version. Use the PyTorch implementation torch.optim.AdamW instead, or set `no_deprecation_warning=True` to disable this warning\n",
            "  warnings.warn(\n"
          ]
        }
      ]
    },
    {
      "cell_type": "markdown",
      "source": [
        "####Create Loss"
      ],
      "metadata": {
        "id": "KR8_lDDD8WDR"
      }
    },
    {
      "cell_type": "code",
      "source": [
        "criterion = BertPretrainingCriterion(vocab_size)"
      ],
      "metadata": {
        "id": "jR5oOCF68ZmL"
      },
      "execution_count": null,
      "outputs": []
    },
    {
      "cell_type": "markdown",
      "source": [
        "####Training Iteration"
      ],
      "metadata": {
        "id": "IXNeD8TV8X7R"
      }
    },
    {
      "cell_type": "code",
      "source": [
        "curr_epoch = 0\n",
        "global_step = 0\n",
        "\n",
        "avg_loss = 0\n",
        "global_step = 0\n",
        "while True:\n",
        "    optimizer.zero_grad(set_to_none=True)\n",
        "    #\n",
        "    for step, batch in enumerate(train_dataloader):\n",
        "        global_step += 1\n",
        "        #\n",
        "        grad_accumulation_step = (global_step % gradient_accumulation_steps) != 0\n",
        "        # Data\n",
        "        batch = {k: v.type(torch.LongTensor).to(device, non_blocking=True) for k, v in batch.items()}\n",
        "        # Forward Propagation\n",
        "        prediction_scores, seq_relationship_score = model(input_ids=batch['input_ids'],\n",
        "                                                          token_type_ids=batch['segment_ids'],\n",
        "                                                          masked_lm_labels=batch['masked_lm_ids'],\n",
        "                                                          masked_lm_positions=batch['masked_lm_positions'])\n",
        "        # Calculation of Loss\n",
        "        loss = criterion(prediction_scores,\n",
        "                         seq_relationship_score,\n",
        "                         batch['masked_lm_ids'],\n",
        "                         batch['masked_lm_positions'],\n",
        "                         batch['next_sentence_labels'])\n",
        "        # Backpropagation - Gradient is accumulated\n",
        "        loss.backward()\n",
        "        #\n",
        "        if not grad_accumulation_step:\n",
        "          # Update\n",
        "          optimizer.step()\n",
        "          #\n",
        "          optimizer.zero_grad(set_to_none=True)\n",
        "          #\n",
        "          print(\"[avg_loss]: {:.2f}\".format(avg_loss))\n",
        "          print(\"[cur_loss]: {:.2f}\".format(loss.detach().cpu().numpy()))\n",
        "        #\n",
        "        avg_loss = calc_average_loss(avg_loss, loss.detach().cpu().numpy(), global_step)\n",
        "    #\n",
        "    lr_scheduler.step()  # learning rate warmup\n",
        "    #\n",
        "    step, lr = optimizer_statistics(optimizer)\n",
        "    #\n",
        "    curr_epoch += 1"
      ],
      "metadata": {
        "colab": {
          "base_uri": "https://localhost:8080/",
          "height": 1000
        },
        "id": "bikknrmN8kCn",
        "outputId": "2f727761-d26a-46ad-f887-a1d8bd35d5c4"
      },
      "execution_count": null,
      "outputs": [
        {
          "output_type": "stream",
          "name": "stdout",
          "text": [
            "[avg_loss]: 11.29\n",
            "[cur_loss]: 11.21\n",
            "[avg_loss]: 11.27\n",
            "[cur_loss]: 11.29\n",
            "[avg_loss]: 11.26\n",
            "[cur_loss]: 11.29\n",
            "[avg_loss]: 11.26\n",
            "[cur_loss]: 11.24\n",
            "[avg_loss]: 11.27\n",
            "[cur_loss]: 11.34\n",
            "[avg_loss]: 11.27\n",
            "[cur_loss]: 11.27\n",
            "[avg_loss]: 11.27\n",
            "[cur_loss]: 11.26\n",
            "[avg_loss]: 11.27\n",
            "[cur_loss]: 11.27\n",
            "[avg_loss]: 11.27\n",
            "[cur_loss]: 11.19\n",
            "[avg_loss]: 11.27\n",
            "[cur_loss]: 11.25\n",
            "[avg_loss]: 11.27\n",
            "[cur_loss]: 11.30\n",
            "[avg_loss]: 11.26\n",
            "[cur_loss]: 11.30\n",
            "[avg_loss]: 11.27\n",
            "[cur_loss]: 11.29\n",
            "[avg_loss]: 11.27\n",
            "[cur_loss]: 11.24\n",
            "[avg_loss]: 11.27\n",
            "[cur_loss]: 11.30\n",
            "[avg_loss]: 11.27\n",
            "[cur_loss]: 11.22\n",
            "[avg_loss]: 11.27\n",
            "[cur_loss]: 11.17\n",
            "[avg_loss]: 11.27\n",
            "[cur_loss]: 11.26\n",
            "[avg_loss]: 11.27\n",
            "[cur_loss]: 11.30\n",
            "[avg_loss]: 11.27\n",
            "[cur_loss]: 11.24\n",
            "[avg_loss]: 11.27\n",
            "[cur_loss]: 11.27\n",
            "[avg_loss]: 11.27\n",
            "[cur_loss]: 11.30\n",
            "[avg_loss]: 11.27\n",
            "[cur_loss]: 11.21\n",
            "[avg_loss]: 11.27\n",
            "[cur_loss]: 11.21\n",
            "[avg_loss]: 11.27\n",
            "[cur_loss]: 11.23\n",
            "[avg_loss]: 11.27\n",
            "[cur_loss]: 11.29\n",
            "[avg_loss]: 11.27\n",
            "[cur_loss]: 11.25\n",
            "[avg_loss]: 11.27\n",
            "[cur_loss]: 11.22\n",
            "[avg_loss]: 11.27\n",
            "[cur_loss]: 11.31\n",
            "[avg_loss]: 11.27\n",
            "[cur_loss]: 11.19\n",
            "[avg_loss]: 11.27\n",
            "[cur_loss]: 11.38\n",
            "[avg_loss]: 11.27\n",
            "[cur_loss]: 11.26\n"
          ]
        },
        {
          "output_type": "error",
          "ename": "KeyError",
          "evalue": "'step'",
          "traceback": [
            "\u001b[0;31m---------------------------------------------------------------------------\u001b[0m",
            "\u001b[0;31mKeyError\u001b[0m                                  Traceback (most recent call last)",
            "\u001b[0;32m<ipython-input-47-48a0bdd51e6a>\u001b[0m in \u001b[0;36m<cell line: 6>\u001b[0;34m()\u001b[0m\n\u001b[1;32m     40\u001b[0m     \u001b[0mlr_scheduler\u001b[0m\u001b[0;34m.\u001b[0m\u001b[0mstep\u001b[0m\u001b[0;34m(\u001b[0m\u001b[0;34m)\u001b[0m  \u001b[0;31m# learning rate warmup\u001b[0m\u001b[0;34m\u001b[0m\u001b[0;34m\u001b[0m\u001b[0m\n\u001b[1;32m     41\u001b[0m     \u001b[0;31m#\u001b[0m\u001b[0;34m\u001b[0m\u001b[0;34m\u001b[0m\u001b[0m\n\u001b[0;32m---> 42\u001b[0;31m     \u001b[0mstep\u001b[0m\u001b[0;34m,\u001b[0m \u001b[0mlr\u001b[0m \u001b[0;34m=\u001b[0m \u001b[0moptimizer_statistics\u001b[0m\u001b[0;34m(\u001b[0m\u001b[0moptimizer\u001b[0m\u001b[0;34m)\u001b[0m\u001b[0;34m\u001b[0m\u001b[0;34m\u001b[0m\u001b[0m\n\u001b[0m\u001b[1;32m     43\u001b[0m     \u001b[0;31m#\u001b[0m\u001b[0;34m\u001b[0m\u001b[0;34m\u001b[0m\u001b[0m\n\u001b[1;32m     44\u001b[0m     \u001b[0mcurr_epoch\u001b[0m \u001b[0;34m+=\u001b[0m \u001b[0;36m1\u001b[0m\u001b[0;34m\u001b[0m\u001b[0;34m\u001b[0m\u001b[0m\n",
            "\u001b[0;32m<ipython-input-35-f63736ee27b3>\u001b[0m in \u001b[0;36moptimizer_statistics\u001b[0;34m(optimizer)\u001b[0m\n\u001b[1;32m      1\u001b[0m \u001b[0;32mdef\u001b[0m \u001b[0moptimizer_statistics\u001b[0m\u001b[0;34m(\u001b[0m\u001b[0moptimizer\u001b[0m\u001b[0;34m)\u001b[0m\u001b[0;34m:\u001b[0m\u001b[0;34m\u001b[0m\u001b[0;34m\u001b[0m\u001b[0m\n\u001b[0;32m----> 2\u001b[0;31m     \u001b[0;32mreturn\u001b[0m \u001b[0moptimizer\u001b[0m\u001b[0;34m.\u001b[0m\u001b[0mparam_groups\u001b[0m\u001b[0;34m[\u001b[0m\u001b[0;36m0\u001b[0m\u001b[0;34m]\u001b[0m\u001b[0;34m[\u001b[0m\u001b[0;34m'step'\u001b[0m\u001b[0;34m]\u001b[0m\u001b[0;34m,\u001b[0m \u001b[0moptimizer\u001b[0m\u001b[0;34m.\u001b[0m\u001b[0mparam_groups\u001b[0m\u001b[0;34m[\u001b[0m\u001b[0;36m0\u001b[0m\u001b[0;34m]\u001b[0m\u001b[0;34m[\u001b[0m\u001b[0;34m'lr'\u001b[0m\u001b[0;34m]\u001b[0m\u001b[0;34m\u001b[0m\u001b[0;34m\u001b[0m\u001b[0m\n\u001b[0m",
            "\u001b[0;31mKeyError\u001b[0m: 'step'"
          ]
        }
      ]
    },
    {
      "cell_type": "code",
      "source": [
        "torch.save({'model': model_to_save.state_dict(),\n",
        "            'optimizer': optimizer.state_dict(),\n",
        "            'grad_scaler': grad_scaler.state_dict(),\n",
        "            'epoch': epoch}, output_save_file)"
      ],
      "metadata": {
        "id": "nIxFk383wB1V"
      },
      "execution_count": null,
      "outputs": []
    }
  ],
  "metadata": {
    "colab": {
      "collapsed_sections": [
        "tDjOCegW1sq5",
        "2pKegLwcGQ-s",
        "_BxhKuCTJAHg",
        "EmeoZPtyPybL",
        "9HTDFv3vm_jG",
        "0zy2IzM-qUWQ",
        "QP84nGSQq-Jd",
        "gneJf6J7rM2M"
      ],
      "provenance": [],
      "gpuType": "T4",
      "authorship_tag": "ABX9TyNowdkyx9eEACQEmG/9xSrG",
      "include_colab_link": true
    },
    "kernelspec": {
      "display_name": "Python 3",
      "name": "python3"
    },
    "language_info": {
      "name": "python"
    },
    "accelerator": "GPU"
  },
  "nbformat": 4,
  "nbformat_minor": 0
}